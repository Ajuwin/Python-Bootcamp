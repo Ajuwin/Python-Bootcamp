{
 "cells": [
  {
   "cell_type": "markdown",
   "id": "1a7930e3",
   "metadata": {},
   "source": [
    "### Lambda Functions"
   ]
  },
  {
   "cell_type": "markdown",
   "id": "d8ab487d",
   "metadata": {},
   "source": [
    "A lambda function is a small anonymous function & can take any number of arguments, but only have one expression."
   ]
  },
  {
   "cell_type": "code",
   "execution_count": 1,
   "id": "da338e80",
   "metadata": {},
   "outputs": [
    {
     "name": "stdout",
     "output_type": "stream",
     "text": [
      "125\n"
     ]
    }
   ],
   "source": [
    "# 1. lambda function that multiplies argument x with argument y.\n",
    "\n",
    "result = lambda x, y: x * y\n",
    "\n",
    "print(result(5, 25))"
   ]
  },
  {
   "cell_type": "code",
   "execution_count": 3,
   "id": "92f0bb25",
   "metadata": {},
   "outputs": [],
   "source": [
    "# 2. Create Fibonacci series to n using Lambda.\n",
    "\n",
    "from functools import reduce\n",
    " \n",
    "fib_series = lambda n: reduce(lambda x, _: x+[x[-1]+x[-2]], range(n-2), [0, 1])"
   ]
  },
  {
   "cell_type": "code",
   "execution_count": 4,
   "id": "3d8646f3",
   "metadata": {},
   "outputs": [
    {
     "name": "stdout",
     "output_type": "stream",
     "text": [
      "[0, 1, 1, 2, 3, 5, 8, 13, 21]\n"
     ]
    }
   ],
   "source": [
    "print(fib_series(9))"
   ]
  },
  {
   "cell_type": "code",
   "execution_count": 5,
   "id": "fbc86985",
   "metadata": {},
   "outputs": [
    {
     "name": "stdout",
     "output_type": "stream",
     "text": [
      "[3, 4, 5, 6, 7, 8]\n"
     ]
    }
   ],
   "source": [
    "# 3. Multiply each number of given list with a given number.\n",
    "\n",
    "lst = map(lambda a: a+2, [1, 2, 3, 4, 5, 6])\n",
    "\n",
    "print(list(lst))"
   ]
  },
  {
   "cell_type": "code",
   "execution_count": 10,
   "id": "6a7b9588",
   "metadata": {},
   "outputs": [
    {
     "name": "stdout",
     "output_type": "stream",
     "text": [
      "[18, 36, 81, 90]\n"
     ]
    }
   ],
   "source": [
    "# 4. Find numbers divisible by 9 from a list of numbers. \n",
    "\n",
    "multiples_of_9 = filter(lambda a: (a%9==0), [3, 20, 18, 36, 51, 81, 65, 90])\n",
    "print(list(multiples_of_9))"
   ]
  },
  {
   "cell_type": "code",
   "execution_count": 11,
   "id": "5f5a5e40",
   "metadata": {},
   "outputs": [
    {
     "name": "stdout",
     "output_type": "stream",
     "text": [
      "[2, 4, 6, 8, 10]\n"
     ]
    }
   ],
   "source": [
    "# 5. Count the even numbers in a given list of integers\n",
    "\n",
    "even_num = list(filter(lambda a: (a%2==0), [1, 2, 3, 4, 5, 6, 7, 8, 9, 10]))\n",
    "\n",
    "print(even_num)"
   ]
  }
 ],
 "metadata": {
  "kernelspec": {
   "display_name": "Python 3",
   "language": "python",
   "name": "python3"
  },
  "language_info": {
   "codemirror_mode": {
    "name": "ipython",
    "version": 3
   },
   "file_extension": ".py",
   "mimetype": "text/x-python",
   "name": "python",
   "nbconvert_exporter": "python",
   "pygments_lexer": "ipython3",
   "version": "3.8.5"
  }
 },
 "nbformat": 4,
 "nbformat_minor": 5
}
