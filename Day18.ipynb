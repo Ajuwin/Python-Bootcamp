{
 "cells": [
  {
   "cell_type": "markdown",
   "id": "f60a8965",
   "metadata": {},
   "source": [
    "## Mysql (Insert into & select)"
   ]
  },
  {
   "cell_type": "code",
   "execution_count": 1,
   "id": "00e830de",
   "metadata": {},
   "outputs": [],
   "source": [
    "import mysql.connector"
   ]
  },
  {
   "cell_type": "code",
   "execution_count": 2,
   "id": "7142cd17",
   "metadata": {},
   "outputs": [],
   "source": [
    "con = mysql.connector.connect(host=\"localhost\", user=\"root\", passwd=\"Microsoft@9623\")"
   ]
  },
  {
   "cell_type": "code",
   "execution_count": 3,
   "id": "c94a881d",
   "metadata": {},
   "outputs": [],
   "source": [
    "dbase = con.cursor()"
   ]
  },
  {
   "cell_type": "markdown",
   "id": "60a9c937",
   "metadata": {},
   "source": [
    "#### Create a DB with doctor and doctor ID & patients visited"
   ]
  },
  {
   "cell_type": "code",
   "execution_count": 4,
   "id": "1760198d",
   "metadata": {},
   "outputs": [],
   "source": [
    "dbase.execute(\"CREATE DATABASE Doctor\")"
   ]
  },
  {
   "cell_type": "code",
   "execution_count": 5,
   "id": "222c91eb",
   "metadata": {},
   "outputs": [
    {
     "name": "stdout",
     "output_type": "stream",
     "text": [
      "('doctor',)\n",
      "('information_schema',)\n",
      "('mydatabase',)\n",
      "('mysql',)\n",
      "('performance_schema',)\n",
      "('sakila',)\n",
      "('sys',)\n",
      "('world',)\n"
     ]
    }
   ],
   "source": [
    "dbase = con.cursor()\n",
    "dbase.execute(\"SHOW DATABASES\")\n",
    "\n",
    "for db in dbase:\n",
    "    print(db)"
   ]
  },
  {
   "cell_type": "code",
   "execution_count": 6,
   "id": "bb87a4d2",
   "metadata": {},
   "outputs": [],
   "source": [
    "con = mysql.connector.connect(host=\"localhost\", user=\"root\", passwd=\"Microsoft@9623\", database=\"doctor\")"
   ]
  },
  {
   "cell_type": "code",
   "execution_count": 7,
   "id": "f8760c63",
   "metadata": {},
   "outputs": [],
   "source": [
    "dbase = con.cursor()\n",
    "\n",
    "dbase.execute(\"CREATE TABLE Doctor (Dr_Id VARCHAR(255), Patient_Visited VARCHAR(255))\")"
   ]
  },
  {
   "cell_type": "code",
   "execution_count": 8,
   "id": "9cd4f66d",
   "metadata": {},
   "outputs": [
    {
     "name": "stdout",
     "output_type": "stream",
     "text": [
      "13 was inserted.\n"
     ]
    }
   ],
   "source": [
    "sql = \"INSERT INTO Doctor (Dr_Id, Patient_Visited) VALUES (%s, %s)\"\n",
    "values = [\n",
    "    (\"ID201\", \"3\"),\n",
    "    (\"ID202\", \"7\"),\n",
    "    (\"ID203\", \"9\"),\n",
    "    (\"ID204\", \"10\"),\n",
    "    (\"ID205\", \"2\"),\n",
    "    (\"ID206\", \"0\"),\n",
    "    (\"ID207\", \"2\"),\n",
    "    (\"ID208\", \"5\"),\n",
    "    (\"ID209\", \"6\"),\n",
    "    (\"ID210\", \"0\"),\n",
    "    (\"ID211\", \"4\"),\n",
    "    (\"ID212\", \"8\"),\n",
    "    (\"ID213\", \"0\")\n",
    "]\n",
    "dbase.executemany(sql, values)\n",
    "con.commit()\n",
    "\n",
    "print(dbase.rowcount, \"was inserted.\")"
   ]
  },
  {
   "cell_type": "markdown",
   "id": "ee95d86a",
   "metadata": {},
   "source": [
    "#### Get the doctor(s) who have more than 5 patients visited"
   ]
  },
  {
   "cell_type": "code",
   "execution_count": 9,
   "id": "9ebac779",
   "metadata": {},
   "outputs": [
    {
     "name": "stdout",
     "output_type": "stream",
     "text": [
      "('ID202', '7')\n",
      "('ID203', '9')\n",
      "('ID204', '10')\n",
      "('ID209', '6')\n",
      "('ID212', '8')\n"
     ]
    }
   ],
   "source": [
    "dbase.execute(\"SELECT * FROM doctor where Patient_Visited > 5\")\n",
    "\n",
    "result = dbase.fetchall()\n",
    "\n",
    "for data in result:\n",
    "    print(data)"
   ]
  },
  {
   "cell_type": "markdown",
   "id": "07a2b9ac",
   "metadata": {},
   "source": [
    "#### Get the doctors with no patients visit"
   ]
  },
  {
   "cell_type": "code",
   "execution_count": 10,
   "id": "153bc679",
   "metadata": {},
   "outputs": [
    {
     "name": "stdout",
     "output_type": "stream",
     "text": [
      "('ID206', '0')\n",
      "('ID210', '0')\n",
      "('ID213', '0')\n"
     ]
    }
   ],
   "source": [
    "dbase.execute(\"SELECT * FROM doctor where Patient_Visited = 0\")\n",
    "\n",
    "output = dbase.fetchall()\n",
    "\n",
    "for data in output:\n",
    "    print(data)"
   ]
  }
 ],
 "metadata": {
  "kernelspec": {
   "display_name": "Python 3",
   "language": "python",
   "name": "python3"
  },
  "language_info": {
   "codemirror_mode": {
    "name": "ipython",
    "version": 3
   },
   "file_extension": ".py",
   "mimetype": "text/x-python",
   "name": "python",
   "nbconvert_exporter": "python",
   "pygments_lexer": "ipython3",
   "version": "3.9.6"
  }
 },
 "nbformat": 4,
 "nbformat_minor": 5
}
