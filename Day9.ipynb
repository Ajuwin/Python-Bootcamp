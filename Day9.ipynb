{
 "cells": [
  {
   "cell_type": "code",
   "execution_count": 4,
   "id": "2f01b518",
   "metadata": {},
   "outputs": [
    {
     "name": "stdout",
     "output_type": "stream",
     "text": [
      "updated list: [12, 27, 42, 67, 82]\n"
     ]
    }
   ],
   "source": [
    "# Problem 1\n",
    "# loop through a list of numbers and add +2 to every value to elements in list\n",
    "\n",
    "num_list = [10, 25, 40, 65, 80]\n",
    "\n",
    "for i in range(len(num_list)):\n",
    "    num_list[i] = num_list[i] + 2\n",
    "    \n",
    "print('updated list:', num_list)"
   ]
  },
  {
   "cell_type": "code",
   "execution_count": 6,
   "id": "78e9136d",
   "metadata": {},
   "outputs": [
    {
     "name": "stdout",
     "output_type": "stream",
     "text": [
      "54321\n",
      "4321\n",
      "321\n",
      "21\n",
      "1\n"
     ]
    }
   ],
   "source": [
    "# Problem 2\n",
    "# print pattern\n",
    "\n",
    "for i in range(5, 0, -1):\n",
    "    for j in range(i, 0, -1):\n",
    "        print(j, end='')\n",
    "    print()"
   ]
  },
  {
   "cell_type": "code",
   "execution_count": 1,
   "id": "1ae79167",
   "metadata": {},
   "outputs": [
    {
     "name": "stdout",
     "output_type": "stream",
     "text": [
      "Enter the number: 10\n",
      "0 1 1 2 3 5 8 13 21 34 "
     ]
    }
   ],
   "source": [
    "# Problem 3\n",
    "# Print the Fibonacci sequence\n",
    "\n",
    "num = int(input('Enter the number: '))\n",
    "first_num = 0\n",
    "second_num = 1\n",
    "count = 0\n",
    "\n",
    "while count < num:\n",
    "    print(first_num, end=' ')\n",
    "    n = first_num + second_num\n",
    "    first_num = second_num\n",
    "    second_num = n\n",
    "    count += 1"
   ]
  },
  {
   "cell_type": "code",
   "execution_count": 10,
   "id": "815c39ca",
   "metadata": {},
   "outputs": [
    {
     "name": "stdout",
     "output_type": "stream",
     "text": [
      "Enter the number: 153\n",
      "Amstrong number\n"
     ]
    }
   ],
   "source": [
    "# Problem 4\n",
    "# Armstrong number: The sum of the cubes of its digits is equal to the number itself\n",
    "\n",
    "# Code \n",
    "\n",
    "def amstrong(num):\n",
    "    temp = num\n",
    "    res = 0\n",
    "\n",
    "    while num > 0:\n",
    "        rem = num % 10\n",
    "        res += rem ** 3\n",
    "        num = num // 10\n",
    "    return res\n",
    "\n",
    "num = int(input(\"Enter the number: \"))\n",
    "res = amstrong(num)\n",
    "if res == num:\n",
    "    print(\"Amstrong number\")\n",
    "else:\n",
    "    print(\"Not an amstrong number\")"
   ]
  },
  {
   "cell_type": "code",
   "execution_count": 6,
   "id": "cdfb3e75",
   "metadata": {},
   "outputs": [
    {
     "name": "stdout",
     "output_type": "stream",
     "text": [
      "1 x 9 = 9\n",
      "2 x 9 = 18\n",
      "3 x 9 = 27\n",
      "4 x 9 = 36\n",
      "5 x 9 = 45\n",
      "6 x 9 = 54\n",
      "7 x 9 = 63\n",
      "8 x 9 = 72\n",
      "9 x 9 = 81\n",
      "10 x 9 = 90\n"
     ]
    }
   ],
   "source": [
    "# Problem 5\n",
    "# Multiplication table of 9\n",
    "\n",
    "for i in range(1, 11):\n",
    "    print(f'{i} x 9 = {i * 9}')"
   ]
  },
  {
   "cell_type": "code",
   "execution_count": 7,
   "id": "6633dc53",
   "metadata": {},
   "outputs": [
    {
     "name": "stdout",
     "output_type": "stream",
     "text": [
      "Enter the number: 5\n",
      "Positive\n"
     ]
    }
   ],
   "source": [
    "# Problem 6\n",
    "# Check number is negative or positive\n",
    "\n",
    "num = int(input(\"Enter the number: \"))\n",
    "if num > 0:\n",
    "    print(\"Positive\")\n",
    "elif num == 0:\n",
    "    print(\"Neither positive nor negative\")\n",
    "else:\n",
    "    print(\"Negative\")"
   ]
  },
  {
   "cell_type": "code",
   "execution_count": 9,
   "id": "3d786e62",
   "metadata": {},
   "outputs": [
    {
     "name": "stdout",
     "output_type": "stream",
     "text": [
      "Enter the number of days: 1825\n",
      "Your age is 5.0\n"
     ]
    }
   ],
   "source": [
    "# Problem 7\n",
    "# convert the number of days to ages\n",
    "\n",
    "days = int(input(\"Enter the number of days: \"))\n",
    "age = days / 365\n",
    "print(\"Your age is\", age)"
   ]
  },
  {
   "cell_type": "code",
   "execution_count": 12,
   "id": "ef01d621",
   "metadata": {},
   "outputs": [
    {
     "name": "stdout",
     "output_type": "stream",
     "text": [
      "sin(1.25): 0.9489846193555862\n",
      "cos(1.25): 0.3153223623952687\n",
      "tan(1.25): 3.0095696738628313\n"
     ]
    }
   ],
   "source": [
    "# Problem 8\n",
    "# Trignometric function\n",
    "\n",
    "import math\n",
    "\n",
    "num = 1.25\n",
    "\n",
    "print(f'sin({num}):', math.sin(num))\n",
    "print(f'cos({num}):', math.cos(num))\n",
    "print(f'tan({num}):', math.tan(num))"
   ]
  },
  {
   "cell_type": "code",
   "execution_count": 14,
   "id": "6bd31f8b",
   "metadata": {},
   "outputs": [
    {
     "name": "stdout",
     "output_type": "stream",
     "text": [
      "1. Addition\n",
      "2. Subtraction\n",
      "3. Multiplication\n",
      "4. Division\n",
      "Select operation[1/2/3/4]: 3\n",
      "Enter first number: 5\n",
      "Enter second number: 25\n",
      "Multiplication of two number: 125\n"
     ]
    }
   ],
   "source": [
    "# Problem 9\n",
    "# Calculator(Basic arithmetic calculation)\n",
    "\n",
    "print('1. Addition\\n2. Subtraction\\n3. Multiplication\\n4. Division')\n",
    "operation = input('Select operation[1/2/3/4]: ')\n",
    "\n",
    "f_num = int(input(\"Enter first number: \"))\n",
    "s_num = int(input(\"Enter second number: \"))\n",
    "\n",
    "if operation == '1':\n",
    "    print(\"Addition of two number:\", f_num + s_num)\n",
    "elif operation == '2':\n",
    "    print(\"Subtraction of two number:\", f_num - s_num)\n",
    "elif operation == '3':\n",
    "    print(\"Multiplication of two number:\", f_num * s_num)\n",
    "elif operation == '4':\n",
    "    print(\"Division of two number:\", f_num / s_num)\n",
    "else:\n",
    "    print(\"Invalid input\")"
   ]
  }
 ],
 "metadata": {
  "kernelspec": {
   "display_name": "Python 3",
   "language": "python",
   "name": "python3"
  },
  "language_info": {
   "codemirror_mode": {
    "name": "ipython",
    "version": 3
   },
   "file_extension": ".py",
   "mimetype": "text/x-python",
   "name": "python",
   "nbconvert_exporter": "python",
   "pygments_lexer": "ipython3",
   "version": "3.8.5"
  }
 },
 "nbformat": 4,
 "nbformat_minor": 5
}
