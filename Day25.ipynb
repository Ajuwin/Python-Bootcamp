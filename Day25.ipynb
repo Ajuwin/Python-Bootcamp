{
 "cells": [
  {
   "cell_type": "markdown",
   "id": "589c7059",
   "metadata": {},
   "source": [
    "## DateTime"
   ]
  },
  {
   "cell_type": "code",
   "execution_count": 2,
   "id": "aace02f7",
   "metadata": {},
   "outputs": [],
   "source": [
    "import datetime"
   ]
  },
  {
   "cell_type": "markdown",
   "id": "bd74d09c",
   "metadata": {},
   "source": [
    "#### convert a string to datetime "
   ]
  },
  {
   "cell_type": "code",
   "execution_count": 4,
   "id": "b0acdc81",
   "metadata": {},
   "outputs": [
    {
     "name": "stdout",
     "output_type": "stream",
     "text": [
      "The date is 2021-07-09 01:55:19\n"
     ]
    }
   ],
   "source": [
    "date_time_str = '09/07/21 01:55:19'\n",
    "\n",
    "date_time_obj = datetime.datetime.strptime(date_time_str, '%d/%m/%y %H:%M:%S')\n",
    "\n",
    "print (\"The date is\", date_time_obj)"
   ]
  },
  {
   "cell_type": "markdown",
   "id": "9a6b62d4",
   "metadata": {},
   "source": [
    "#### subtract five days (last working day) from current date"
   ]
  },
  {
   "cell_type": "code",
   "execution_count": 5,
   "id": "0631dfa8",
   "metadata": {},
   "outputs": [
    {
     "name": "stdout",
     "output_type": "stream",
     "text": [
      "2021-07-04\n"
     ]
    }
   ],
   "source": [
    "a_date = datetime.date(2021, 7, 9)\n",
    "days = datetime.timedelta(5)\n",
    "\n",
    "new_date = a_date - days\n",
    "\n",
    "print(new_date)"
   ]
  },
  {
   "cell_type": "markdown",
   "id": "7c9b56d7",
   "metadata": {},
   "source": [
    "#### convert the date to datetime using a function"
   ]
  },
  {
   "cell_type": "code",
   "execution_count": 7,
   "id": "6cbfb58f",
   "metadata": {},
   "outputs": [],
   "source": [
    "dt = datetime.datetime.combine(datetime.date.today(), datetime.datetime.min.time())"
   ]
  },
  {
   "cell_type": "code",
   "execution_count": 8,
   "id": "4a1469bb",
   "metadata": {},
   "outputs": [
    {
     "name": "stdout",
     "output_type": "stream",
     "text": [
      "2021-07-09 00:00:00\n"
     ]
    }
   ],
   "source": [
    "print(dt)"
   ]
  },
  {
   "cell_type": "markdown",
   "id": "9a3bd223",
   "metadata": {},
   "source": [
    "#### print next 7 days (week) starting from today"
   ]
  },
  {
   "cell_type": "code",
   "execution_count": 9,
   "id": "7303c8da",
   "metadata": {},
   "outputs": [
    {
     "name": "stdout",
     "output_type": "stream",
     "text": [
      "2021-07-09 19:28:17.760212\n",
      "2021-07-10 19:28:17.760212\n",
      "2021-07-11 19:28:17.760212\n",
      "2021-07-12 19:28:17.760212\n",
      "2021-07-13 19:28:17.760212\n",
      "2021-07-14 19:28:17.760212\n",
      "2021-07-15 19:28:17.760212\n"
     ]
    }
   ],
   "source": [
    "cur_date = datetime.datetime.today()\n",
    "for x in range(0, 7):\n",
    "    print(cur_date + datetime.timedelta(days=x))"
   ]
  }
 ],
 "metadata": {
  "kernelspec": {
   "display_name": "Python 3",
   "language": "python",
   "name": "python3"
  },
  "language_info": {
   "codemirror_mode": {
    "name": "ipython",
    "version": 3
   },
   "file_extension": ".py",
   "mimetype": "text/x-python",
   "name": "python",
   "nbconvert_exporter": "python",
   "pygments_lexer": "ipython3",
   "version": "3.9.6"
  }
 },
 "nbformat": 4,
 "nbformat_minor": 5
}
