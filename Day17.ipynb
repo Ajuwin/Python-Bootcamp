{
 "cells": [
  {
   "cell_type": "markdown",
   "id": "a04e6ee1",
   "metadata": {},
   "source": [
    "### Python MySql"
   ]
  },
  {
   "cell_type": "code",
   "execution_count": 1,
   "id": "0c422f7b",
   "metadata": {},
   "outputs": [],
   "source": [
    "# importing mysql-connector\n",
    "\n",
    "import mysql.connector"
   ]
  },
  {
   "cell_type": "code",
   "execution_count": 2,
   "id": "e6ac349c",
   "metadata": {},
   "outputs": [],
   "source": [
    "# Create a connection for DB and print the version using a python program.\n",
    "\n",
    "mydb = mysql.connector.connect(host=\"localhost\",user=\"root\",passwd=\"Microsoft@9623\") "
   ]
  },
  {
   "cell_type": "code",
   "execution_count": 3,
   "id": "ab30ff32",
   "metadata": {},
   "outputs": [
    {
     "name": "stdout",
     "output_type": "stream",
     "text": [
      "DBMS Version : ('8.0.25',)\n"
     ]
    }
   ],
   "source": [
    "cur = mydb.cursor()\n",
    "cur.execute(\"SELECT VERSION()\")\n",
    "data = cur.fetchone()\n",
    "print(\"DBMS Version :\",str(data))"
   ]
  },
  {
   "cell_type": "code",
   "execution_count": 4,
   "id": "ed5c849e",
   "metadata": {},
   "outputs": [],
   "source": [
    "# Create a multiple tables & insert data in table.\n",
    "\n",
    "db = mydb.cursor()\n",
    "db.execute(\"CREATE DATABASE mydatabase\")"
   ]
  },
  {
   "cell_type": "code",
   "execution_count": 5,
   "id": "606c921b",
   "metadata": {},
   "outputs": [
    {
     "name": "stdout",
     "output_type": "stream",
     "text": [
      "('information_schema',)\n",
      "('mydatabase',)\n",
      "('mysql',)\n",
      "('performance_schema',)\n",
      "('sakila',)\n",
      "('sys',)\n",
      "('world',)\n"
     ]
    }
   ],
   "source": [
    "db.execute(\"SHOW DATABASES\")\n",
    "\n",
    "for entry in db: \n",
    "    print(entry)"
   ]
  },
  {
   "cell_type": "code",
   "execution_count": 7,
   "id": "f9e89204",
   "metadata": {},
   "outputs": [],
   "source": [
    "mydb = mysql.connector.connect(host=\"localhost\",user=\"root\",passwd=\"Microsoft@9623\", database=\"mydatabase\")\n",
    "db = mydb.cursor()"
   ]
  },
  {
   "cell_type": "code",
   "execution_count": 8,
   "id": "d60028da",
   "metadata": {},
   "outputs": [],
   "source": [
    "db.execute(\"CREATE TABLE Register (Name VARCHAR(255), Gender VARCHAR(255), Prog_Language VARCHAR(255))\")\n",
    "\n",
    "data = \"INSERT INTO Register (Name, Gender, Prog_language) VALUES (%s, %s,%s)\"\n",
    "val = (\"Ashok\", \"Male\", \"Python\")\n",
    "db.execute(data, val)"
   ]
  },
  {
   "cell_type": "code",
   "execution_count": 9,
   "id": "affed3ba",
   "metadata": {},
   "outputs": [],
   "source": [
    "db.execute(\"CREATE TABLE Prog_Language (Language VARCHAR(255), year VARCHAR(255))\")\n",
    "\n",
    "data = \"INSERT INTO Prog_Language (Language, year) VALUES (%s, %s)\"\n",
    "val = (\"Python\", \"1992\")\n",
    "db.execute(data, val)"
   ]
  },
  {
   "cell_type": "code",
   "execution_count": 12,
   "id": "77bd85b1",
   "metadata": {},
   "outputs": [
    {
     "name": "stdout",
     "output_type": "stream",
     "text": [
      "('prog_language',)\n",
      "('register',)\n"
     ]
    }
   ],
   "source": [
    "db.execute(\"SHOW TABLES\")\n",
    "\n",
    "for entry in db:\n",
    "    print(entry)"
   ]
  },
  {
   "cell_type": "code",
   "execution_count": 13,
   "id": "7df9abef",
   "metadata": {},
   "outputs": [],
   "source": [
    "# Create a employee table and read all the employee name in the table using for loop.\n",
    "\n",
    "db.execute(\"CREATE TABLE Employee (Name VARCHAR(255), Gender VARCHAR(255), Duty_status VARCHAR(255))\")"
   ]
  },
  {
   "cell_type": "code",
   "execution_count": 14,
   "id": "ed53e008",
   "metadata": {},
   "outputs": [],
   "source": [
    "data = \"INSERT INTO Employee (Name, Gender, Duty_status) VALUES (%s,%s,%s)\"\n",
    "values = [\n",
    "  ('Ashok', 'Male', 'On Duty'),\n",
    "  ('Barbie', 'Female', 'On Duty'),\n",
    "  ('Hannah', 'Female', 'Off Duty'),\n",
    "  ('Michael', 'Male', 'On Duty'),\n",
    "  ('Thomas', 'Male', 'On Duty'), \n",
    "  ('Walter', 'Male', 'Off Duty'),\n",
    "]\n",
    "\n",
    "db.executemany(data, values)"
   ]
  },
  {
   "cell_type": "code",
   "execution_count": 15,
   "id": "48d64453",
   "metadata": {},
   "outputs": [
    {
     "name": "stdout",
     "output_type": "stream",
     "text": [
      "('Ashok', 'Male', 'On Duty')\n",
      "('Barbie', 'Female', 'On Duty')\n",
      "('Hannah', 'Female', 'Off Duty')\n",
      "('Michael', 'Male', 'On Duty')\n",
      "('Thomas', 'Male', 'On Duty')\n",
      "('Walter', 'Male', 'Off Duty')\n"
     ]
    }
   ],
   "source": [
    "db.execute(\"SELECT * FROM Employee\")\n",
    "\n",
    "result = db.fetchall()\n",
    "\n",
    "for x in result:\n",
    "    print(x)"
   ]
  }
 ],
 "metadata": {
  "interpreter": {
   "hash": "33dc6d49505b4536b6a128d9d7c879e1fa44477ad44947bbbe73093067fe6393"
  },
  "kernelspec": {
   "display_name": "Python 3",
   "language": "python",
   "name": "python3"
  },
  "language_info": {
   "codemirror_mode": {
    "name": "ipython",
    "version": 3
   },
   "file_extension": ".py",
   "mimetype": "text/x-python",
   "name": "python",
   "nbconvert_exporter": "python",
   "pygments_lexer": "ipython3",
   "version": "3.9.6"
  }
 },
 "nbformat": 4,
 "nbformat_minor": 5
}
