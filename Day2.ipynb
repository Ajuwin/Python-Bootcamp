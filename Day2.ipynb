{
 "cells": [
  {
   "cell_type": "code",
   "execution_count": 1,
   "id": "caa0b84f",
   "metadata": {},
   "outputs": [
    {
     "name": "stdout",
     "output_type": "stream",
     "text": [
      "30 days 30 hour challenge\n"
     ]
    }
   ],
   "source": [
    "print(\"30 days 30 hour challenge\")\n"
   ]
  },
  {
   "cell_type": "code",
   "execution_count": 2,
   "id": "fc78cf9a",
   "metadata": {},
   "outputs": [],
   "source": [
    "Hours = \"twenty\""
   ]
  },
  {
   "cell_type": "code",
   "execution_count": 3,
   "id": "233854fe",
   "metadata": {},
   "outputs": [
    {
     "name": "stdout",
     "output_type": "stream",
     "text": [
      "twenty\n"
     ]
    }
   ],
   "source": [
    "print(Hours)"
   ]
  },
  {
   "cell_type": "code",
   "execution_count": 4,
   "id": "ba612fee",
   "metadata": {},
   "outputs": [
    {
     "name": "stdout",
     "output_type": "stream",
     "text": [
      "win\n"
     ]
    }
   ],
   "source": [
    "# print the particular character from certain text\n",
    "\n",
    "Challenge = \"I will win\"\n",
    "print(Challenge[7:10])"
   ]
  },
  {
   "cell_type": "code",
   "execution_count": 5,
   "id": "399abed9",
   "metadata": {},
   "outputs": [
    {
     "name": "stdout",
     "output_type": "stream",
     "text": [
      "10\n"
     ]
    }
   ],
   "source": [
    "# len() - returns the lenght of the string\n",
    "\n",
    "Challenge = \"I will win\"\n",
    "print(len(Challenge))"
   ]
  },
  {
   "cell_type": "code",
   "execution_count": 7,
   "id": "22b22494",
   "metadata": {},
   "outputs": [
    {
     "name": "stdout",
     "output_type": "stream",
     "text": [
      "i will win\n"
     ]
    }
   ],
   "source": [
    "# lower() - converts all characters in a string to lower case\n",
    "\n",
    "Challenge = \"I will win\" \n",
    "print(Challenge.lower())"
   ]
  },
  {
   "cell_type": "code",
   "execution_count": 8,
   "id": "3f0f39c1",
   "metadata": {},
   "outputs": [],
   "source": [
    "# Conctenting two strings\n",
    "\n",
    "a = \"30 Days\" \n",
    "b = \"30 hours\" \n",
    "c = a + b "
   ]
  },
  {
   "cell_type": "code",
   "execution_count": 11,
   "id": "081a2e44",
   "metadata": {},
   "outputs": [
    {
     "name": "stdout",
     "output_type": "stream",
     "text": [
      "30 Days30 hours\n"
     ]
    }
   ],
   "source": [
    "print(c)"
   ]
  },
  {
   "cell_type": "code",
   "execution_count": 12,
   "id": "faf8d0e4",
   "metadata": {},
   "outputs": [
    {
     "name": "stdout",
     "output_type": "stream",
     "text": [
      "30 Days 30 hours\n"
     ]
    }
   ],
   "source": [
    "print(a + ' ' + b)"
   ]
  },
  {
   "cell_type": "code",
   "execution_count": 13,
   "id": "5e231e26",
   "metadata": {},
   "outputs": [],
   "source": [
    "text = \"Thirty days and Thirty hours\""
   ]
  },
  {
   "cell_type": "code",
   "execution_count": 14,
   "id": "d4753966",
   "metadata": {},
   "outputs": [
    {
     "name": "stdout",
     "output_type": "stream",
     "text": [
      "thirty days and thirty hours\n"
     ]
    }
   ],
   "source": [
    "# casefold() - converts all characters in a string to lowercase\n",
    "\n",
    "print(text.casefold())"
   ]
  },
  {
   "cell_type": "code",
   "execution_count": 15,
   "id": "5b28eed9",
   "metadata": {},
   "outputs": [
    {
     "name": "stdout",
     "output_type": "stream",
     "text": [
      "Thirty days and thirty hours\n"
     ]
    }
   ],
   "source": [
    "# capitalize() - converts 1st letter to capital\n",
    "\n",
    "print(text.capitalize())"
   ]
  },
  {
   "cell_type": "code",
   "execution_count": 16,
   "id": "2db11925",
   "metadata": {},
   "outputs": [
    {
     "data": {
      "text/plain": [
       "2"
      ]
     },
     "execution_count": 16,
     "metadata": {},
     "output_type": "execute_result"
    }
   ],
   "source": [
    "# find() - used to find the index of an element in a string\n",
    "\n",
    "text.find('i')"
   ]
  },
  {
   "cell_type": "code",
   "execution_count": 19,
   "id": "d11a1936",
   "metadata": {},
   "outputs": [
    {
     "data": {
      "text/plain": [
       "False"
      ]
     },
     "execution_count": 19,
     "metadata": {},
     "output_type": "execute_result"
    }
   ],
   "source": [
    "# isalpha() - returns True if all characters in a string is alphabets\n",
    "\n",
    "text.isalpha()"
   ]
  },
  {
   "cell_type": "code",
   "execution_count": 20,
   "id": "19942b00",
   "metadata": {},
   "outputs": [
    {
     "data": {
      "text/plain": [
       "False"
      ]
     },
     "execution_count": 20,
     "metadata": {},
     "output_type": "execute_result"
    }
   ],
   "source": [
    "# isalnum() - returns True if all characters in a string is numbers(0-9) or alphabets(a-z)\n",
    "\n",
    "text.isalnum()"
   ]
  }
 ],
 "metadata": {
  "kernelspec": {
   "display_name": "Python 3",
   "language": "python",
   "name": "python3"
  },
  "language_info": {
   "codemirror_mode": {
    "name": "ipython",
    "version": 3
   },
   "file_extension": ".py",
   "mimetype": "text/x-python",
   "name": "python",
   "nbconvert_exporter": "python",
   "pygments_lexer": "ipython3",
   "version": "3.8.5"
  }
 },
 "nbformat": 4,
 "nbformat_minor": 5
}
