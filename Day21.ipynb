{
 "cells": [
  {
   "cell_type": "markdown",
   "id": "2395028e",
   "metadata": {},
   "source": [
    "## Map, Filter, Zip, Reduce"
   ]
  },
  {
   "cell_type": "markdown",
   "id": "d0158433",
   "metadata": {},
   "source": [
    "#### Write a program using zip() function and list() function, create a merged list of tuples from the two lists given."
   ]
  },
  {
   "cell_type": "code",
   "execution_count": 1,
   "id": "19831e59",
   "metadata": {},
   "outputs": [],
   "source": [
    "lst1 = [1, 2, 3, 4, 5]\n",
    "lst2 = [1, 4, 9, 16, 25]\n",
    "\n",
    "merged_lst = list(zip(lst1, lst2))"
   ]
  },
  {
   "cell_type": "code",
   "execution_count": 2,
   "id": "1c11ac2a",
   "metadata": {},
   "outputs": [
    {
     "name": "stdout",
     "output_type": "stream",
     "text": [
      "Merged list: [(1, 1), (2, 4), (3, 9), (4, 16), (5, 25)]\n"
     ]
    }
   ],
   "source": [
    "print(f\"Merged list: {merged_lst}\")"
   ]
  },
  {
   "cell_type": "markdown",
   "id": "6b677bac",
   "metadata": {},
   "source": [
    "#### First create a range from 1 to 8. Then using zip, merge the given list and the range together to create a new list of tuples."
   ]
  },
  {
   "cell_type": "code",
   "execution_count": 3,
   "id": "e3b1fe34",
   "metadata": {},
   "outputs": [],
   "source": [
    "lst = list(range(1, 9))\n",
    "list1 = ['a', 'b', 'c', 'd', 'e', 'f', 'g', 'h']"
   ]
  },
  {
   "cell_type": "code",
   "execution_count": 4,
   "id": "eae9b28e",
   "metadata": {},
   "outputs": [
    {
     "name": "stdout",
     "output_type": "stream",
     "text": [
      "[(1, 'a'), (2, 'b'), (3, 'c'), (4, 'd'), (5, 'e'), (6, 'f'), (7, 'g'), (8, 'h')]\n"
     ]
    }
   ],
   "source": [
    "new_list = list(zip(lst, list1))\n",
    "print(new_list)"
   ]
  },
  {
   "cell_type": "markdown",
   "id": "6d470875",
   "metadata": {},
   "source": [
    "#### Using sorted() function, sort the list in ascending order."
   ]
  },
  {
   "cell_type": "code",
   "execution_count": 6,
   "id": "b7364983",
   "metadata": {},
   "outputs": [
    {
     "name": "stdout",
     "output_type": "stream",
     "text": [
      "Sorted list: [5, 10, 15, 20, 25, 30, 35, 40, 45, 50]\n"
     ]
    }
   ],
   "source": [
    "unsorted_list = [50, 25, 35, 5, 20, 40, 10, 45, 15, 30]\n",
    "sorted_list = sorted(unsorted_list)\n",
    "\n",
    "print(f\"Sorted list: {sorted_list}\")"
   ]
  },
  {
   "cell_type": "markdown",
   "id": "590932f6",
   "metadata": {},
   "source": [
    "#### Write a program using filter function, filter the even numbers so that only odd numbers are passed to the new list"
   ]
  },
  {
   "cell_type": "code",
   "execution_count": 7,
   "id": "0a146e04",
   "metadata": {},
   "outputs": [],
   "source": [
    "def odd_num(x):\n",
    "    if x % 2 == 0:\n",
    "        return False\n",
    "    else:\n",
    "        return True"
   ]
  },
  {
   "cell_type": "code",
   "execution_count": 8,
   "id": "dc895c95",
   "metadata": {},
   "outputs": [],
   "source": [
    "num_list = [1, 2, 3, 4, 5, 6, 7, 8, 9, 10]\n",
    "new_list = filter(odd_num, num_list)"
   ]
  },
  {
   "cell_type": "code",
   "execution_count": 9,
   "id": "60465f1a",
   "metadata": {},
   "outputs": [
    {
     "name": "stdout",
     "output_type": "stream",
     "text": [
      "Filtered list: [1, 3, 5, 7, 9]\n"
     ]
    }
   ],
   "source": [
    "new_list = [i for i in new_list]\n",
    "print(f\"Filtered list: {new_list}\")"
   ]
  }
 ],
 "metadata": {
  "kernelspec": {
   "display_name": "Python 3",
   "language": "python",
   "name": "python3"
  },
  "language_info": {
   "codemirror_mode": {
    "name": "ipython",
    "version": 3
   },
   "file_extension": ".py",
   "mimetype": "text/x-python",
   "name": "python",
   "nbconvert_exporter": "python",
   "pygments_lexer": "ipython3",
   "version": "3.9.6"
  }
 },
 "nbformat": 4,
 "nbformat_minor": 5
}
