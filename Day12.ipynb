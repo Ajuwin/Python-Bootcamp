{
 "cells": [
  {
   "cell_type": "code",
   "execution_count": 8,
   "id": "f3c5e5f5",
   "metadata": {},
   "outputs": [],
   "source": [
    "# Creating a text file '30 days 30 hour operations'\n",
    "\n",
    "file = open(\"30 days 30 hour operations.txt\", 'w')"
   ]
  },
  {
   "cell_type": "code",
   "execution_count": 9,
   "id": "7fa0f3b7",
   "metadata": {},
   "outputs": [
    {
     "data": {
      "text/plain": [
       "39"
      ]
     },
     "execution_count": 9,
     "metadata": {},
     "output_type": "execute_result"
    }
   ],
   "source": [
    "# Writing data line to the file\n",
    "\n",
   
    "file.write(\"I have completed 11 days successfully. \\n\")"
   ]
  },
  {
   "cell_type": "code",
   "execution_count": 10,
   "id": "34908edd",
   "metadata": {},
   "outputs": [
    {
     "data": {
      "text/plain": [
       "14"
      ]
     },
     "execution_count": 10,
     "metadata": {},
     "output_type": "execute_result"
    }
   ],
   "source": [
    "file.write(\"Name: Ajuwin S\")"
   ]
  },
  {
   "cell_type": "code",
   "execution_count": 11,
   "id": "9256af0e",
   "metadata": {},
   "outputs": [],
   "source": [
    "file.close()"
   ]
  }
 ],
 "metadata": {
  "kernelspec": {
   "display_name": "Python 3",
   "language": "python",
   "name": "python3"
  },
  "language_info": {
   "codemirror_mode": {
    "name": "ipython",
    "version": 3
   },
   "file_extension": ".py",
   "mimetype": "text/x-python",
   "name": "python",
   "nbconvert_exporter": "python",
   "pygments_lexer": "ipython3",
   "version": "3.8.5"
  }
 },
 "nbformat": 4,
 "nbformat_minor": 5
}
