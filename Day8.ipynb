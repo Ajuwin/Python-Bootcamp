{
 "cells": [
  {
   "cell_type": "code",
   "execution_count": 1,
   "id": "dec5947f",
   "metadata": {},
   "outputs": [
    {
     "name": "stdout",
     "output_type": "stream",
     "text": [
      "{'a': 5, 'b': 10, 'c': 15, 'd': 20}\n"
     ]
    }
   ],
   "source": [
    "# Problem 1\n",
    "\n",
    "# merge two Python dictionaries\n",
    "\n",
    "dic1 = {'a': 5, 'b': 10}\n",
    "dic2 = {'c': 15, 'd': 20}\n",
    "\n",
    "dic = {**dic1, **dic2}\n",
    "print(dic)"
   ]
  },
  {
   "cell_type": "code",
   "execution_count": 18,
   "id": "7765d0a9",
   "metadata": {},
   "outputs": [
    {
     "name": "stdout",
     "output_type": "stream",
     "text": [
      "Original list: [23, 5, 19, 2, 15, 7]\n",
      "sorted reversed list: [23, 19, 15, 7, 5, 2]\n",
      "converted set: {2, 5, 7, 15, 19, 23}\n"
     ]
    }
   ],
   "source": [
    "# Problem 2\n",
    "\n",
    "# sort the value from descending to ascending in list\n",
    "\n",
    "square = [23, 5, 19, 2, 15, 7]\n",
    "print('Original list:', square)\n",
    "\n",
    "square.sort()\n",
    "square.reverse()\n",
    "print(\"sorted reversed list:\", square)\n",
    "\n",
    "# convert list to set\n",
    "\n",
    "converted_set = set(square)\n",
    "print('converted set:',converted_set)"
   ]
  },
  {
   "cell_type": "code",
   "execution_count": 9,
   "id": "a4110c24",
   "metadata": {},
   "outputs": [
    {
     "name": "stdout",
     "output_type": "stream",
     "text": [
      "Dictionary keys: [4, 7, 2, 6, 1, 3]\n",
      "Sorted list: [1, 2, 3, 4, 6, 7]\n"
     ]
    }
   ],
   "source": [
    "# Problem 3\n",
    "\n",
    "# list number of items in a dictionary key\n",
    "\n",
    "dic = {4: 16, 7: 49, 2: 4, 6: 36, 1: 1, 3: 9}\n",
    "key_list = [key for key in dic.keys()]\n",
    "print(\"Dictionary keys:\", key_list)\n",
    "\n",
    "# sorting list using function\n",
    "\n",
    "key_list.sort()\n",
    "print(\"Sorted list:\", key_list)"
   ]
  },
  {
   "cell_type": "code",
   "execution_count": 10,
   "id": "c0d1b7c5",
   "metadata": {},
   "outputs": [
    {
     "name": "stdout",
     "output_type": "stream",
     "text": [
      "Sorted list: [1, 2, 3, 4, 6, 7]\n"
     ]
    }
   ],
   "source": [
    "key_list = [key for key in dic.keys()]\n",
    "\n",
    "# sorting list without funtion(bubble sort)\n",
    "\n",
    "for i in range(len(key_list)):\n",
    "    for j in range(i+1, len(key_list)):\n",
    "        if key_list[i] > key_list[j]:\n",
    "            temp = key_list[i]\n",
    "            key_list[i] = key_list[j]\n",
    "            key_list[j] = temp\n",
    "print(\"Sorted list:\", key_list)"
   ]
  },
  {
   "cell_type": "code",
   "execution_count": 28,
   "id": "a5cefd18",
   "metadata": {},
   "outputs": [
    {
     "name": "stdout",
     "output_type": "stream",
     "text": [
      "Enter a string: I love java\n",
      "I love python\n"
     ]
    }
   ],
   "source": [
    "# Problem 4\n",
    "\n",
    "# get a string input and change the first occurrence of the word to a user specified input\n",
    "\n",
    "user_input = input('Enter a string: ').split()\n",
    "word = 'python'\n",
    "\n",
    "for i in range(len(user_input)):\n",
    "    if user_input[i] == 'java':\n",
    "        user_input[i] = word\n",
    "\n",
    "print(' '.join(user_input))\n",
    "        "
   ]
  },
  {
   "cell_type": "code",
   "execution_count": 29,
   "id": "baaa7df1",
   "metadata": {},
   "outputs": [
    {
     "name": "stdout",
     "output_type": "stream",
     "text": [
      "Enter a string: welcome to python bootcamp\n",
      "Output: WELCOMe To PYtHoN BootcAmp\n"
     ]
    }
   ],
   "source": [
    "# Problem 5\n",
    "\n",
    "# get a string from a given string where all occurrences of its first char have been changed to capital letter\n",
    "\n",
    "input_string = input(\"Enter a string: \")\n",
    "occ_list = []\n",
    "result = \"\"\n",
    "\n",
    "for i in input_string:\n",
    "    if i not in occ_list:\n",
    "        result += i.upper()\n",
    "        occ_list.append(i)\n",
    "    else:\n",
    "        result += i\n",
    "        \n",
    "print(\"Output:\", result)"
   ]
  },
  {
   "cell_type": "code",
   "execution_count": 36,
   "id": "ac60f599",
   "metadata": {},
   "outputs": [
    {
     "name": "stdout",
     "output_type": "stream",
     "text": [
      "original list: [23, 15, 2, 15, 36, 19, 56, 36, 2, 56]\n",
      "repeated items: 15 36 2 56 "
     ]
    }
   ],
   "source": [
    "# Problem 6\n",
    "\n",
    "# find the repeated items of a list\n",
    "\n",
    "original_list = [23, 15, 2, 15, 36, 19, 56, 36, 2, 56]\n",
    "print(\"original list:\", original_list)\n",
    "check_list = []\n",
    "\n",
    "print('repeated items:', end=' ')\n",
    "for i in original_list:\n",
    "    if i in check_list:\n",
    "        print(i, end=' ')\n",
    "    check_list.append(i)"
   ]
  },
  {
   "cell_type": "code",
   "execution_count": 2,
   "id": "c0f5029f",
   "metadata": {},
   "outputs": [
    {
     "name": "stdout",
     "output_type": "stream",
     "text": [
      "Value of a: 5\n",
      "Value of b: 10\n",
      "Value of c: 15\n",
      "Value of d: 3\n",
      "Divisible\n"
     ]
    }
   ],
   "source": [
    "# Problem 7\n",
    "\n",
    "# check the sum of three elements and divided by a value which is given as an input by the user\n",
    "\n",
    "a = int(input(\"Value of a: \"))\n",
    "b = int(input(\"Value of b: \"))\n",
    "c = int(input(\"Value of c: \"))\n",
    "\n",
    "sum = a + b + c\n",
    "\n",
    "d = int(input(\"Value of d: \"))\n",
    "if sum % d == 0:\n",
    "    print('Divisible')\n",
    "else:\n",
    "    print('Not Divisible')"
   ]
  },
  {
   "cell_type": "code",
   "execution_count": 44,
   "id": "956b0644",
   "metadata": {},
   "outputs": [
    {
     "name": "stdout",
     "output_type": "stream",
     "text": [
      "list: [5, 11, 11]\n"
     ]
    }
   ],
   "source": [
    "# Problem 8\n",
    "\n",
    "# Mean,median,mode\n",
    "\n",
    "num_list = [5, 11, 11]\n",
    "print(\"list:\", num_list)"
   ]
  },
  {
   "cell_type": "code",
   "execution_count": 45,
   "id": "06881284",
   "metadata": {},
   "outputs": [
    {
     "name": "stdout",
     "output_type": "stream",
     "text": [
      "Mean 9.0\n"
     ]
    }
   ],
   "source": [
    "# Mean\n",
    "\n",
    "mean = sum(num_list) / len(num_list)\n",
    "\n",
    "print(\"Mean\", mean)"
   ]
  },
  {
   "cell_type": "code",
   "execution_count": 46,
   "id": "8ed2c317",
   "metadata": {},
   "outputs": [
    {
     "name": "stdout",
     "output_type": "stream",
     "text": [
      "Median: 11\n"
     ]
    }
   ],
   "source": [
    "# Median\n",
    "\n",
    "num_list.sort()\n",
    "# Finding the position of the median\n",
    "if len(num_list) % 2 == 0:\n",
    "   first_median = num_list[len(num_list) // 2]\n",
    "   second_median = num_list[len(num_list) // 2 - 1]\n",
    "   median = (first_median + second_median) / 2\n",
    "\n",
    "else:\n",
    "   median = num_list[len(num_list) // 2]\n",
    "\n",
    "print(\"Median:\", median)"
   ]
  },
  {
   "cell_type": "code",
   "execution_count": 47,
   "id": "beac1b8f",
   "metadata": {},
   "outputs": [
    {
     "name": "stdout",
     "output_type": "stream",
     "text": [
      "Mode: 11\n"
     ]
    }
   ],
   "source": [
    "# Mode\n",
    "\n",
    "dic = {}\n",
    "\n",
    "for i in num_list:\n",
    "    if i not in dic:\n",
    "        dic[i] = 1\n",
    "    else:\n",
    "        dic[i] += 1\n",
    "\n",
    "mode = max(dic, key=dic.get)\n",
    "print(\"Mode:\", mode)"
   ]
  },
  {
   "cell_type": "code",
   "execution_count": 49,
   "id": "da993612",
   "metadata": {},
   "outputs": [
    {
     "name": "stdout",
     "output_type": "stream",
     "text": [
      "eNGINEERING\n"
     ]
    }
   ],
   "source": [
    "# Problem 9\n",
    "\n",
    "# swap cases of a given string\n",
    "\n",
    "string = \"Engineering\"\n",
    "\n",
    "print(string.swapcase())"
   ]
  },
  {
   "cell_type": "code",
   "execution_count": 50,
   "id": "882896cb",
   "metadata": {},
   "outputs": [
    {
     "name": "stdout",
     "output_type": "stream",
     "text": [
      "Binary: 0b101\n",
      "Octa: 0o5\n"
     ]
    }
   ],
   "source": [
    "# Problem 10\n",
    "\n",
    "# convert an integer to binary & octa decimal\n",
    "\n",
    "integer = 5\n",
    "\n",
    "binary = bin(integer)\n",
    "octa = oct(integer)\n",
    "\n",
    "print(\"Binary:\", binary)\n",
    "print(\"Octa:\", octa)"
   ]
  }
 ],
 "metadata": {
  "kernelspec": {
   "display_name": "Python 3",
   "language": "python",
   "name": "python3"
  },
  "language_info": {
   "codemirror_mode": {
    "name": "ipython",
    "version": 3
   },
   "file_extension": ".py",
   "mimetype": "text/x-python",
   "name": "python",
   "nbconvert_exporter": "python",
   "pygments_lexer": "ipython3",
   "version": "3.8.5"
  }
 },
 "nbformat": 4,
 "nbformat_minor": 5
}
