{
 "cells": [
  {
   "cell_type": "markdown",
   "id": "069b7e02",
   "metadata": {},
   "source": [
    "### Functions"
   ]
  },
  {
   "cell_type": "markdown",
   "id": "b73b9ff4",
   "metadata": {},
   "source": [
    "•\tA function is a set of statements that take inputs, do some specific computation and produces output.\n",
    "\n",
    "•\tThe idea is to put some commonly or repeatedly done task together and make a function, so that instead of writing the same code again and again for different inputs, we can call the function."
   ]
  },
  {
   "cell_type": "code",
   "execution_count": 1,
   "id": "58ab44a3",
   "metadata": {},
   "outputs": [
    {
     "name": "stdout",
     "output_type": "stream",
     "text": [
      "Hello world\n"
     ]
    }
   ],
   "source": [
    "# Example\n",
    "\n",
    "def hello():\n",
    "    print(\"Hello world\")\n",
    "    \n",
    "hello()"
   ]
  },
  {
   "cell_type": "markdown",
   "id": "c491ea44",
   "metadata": {},
   "source": [
    "Parameter: A parameter is the variable listed inside the parentheses in the function definition.\n",
    "\n",
    "Arguments: An Argument is the value that is sent to the function when it is called."
   ]
  },
  {
   "cell_type": "markdown",
   "id": "c7af3761",
   "metadata": {},
   "source": [
    "### Exercise"
   ]
  },
  {
   "cell_type": "code",
   "execution_count": 2,
   "id": "e9b0d832",
   "metadata": {},
   "outputs": [],
   "source": [
    "def function(a, b):\n",
    "    print(\"Addition of a and b: \", a + b)       \n",
    "    print(\"Subtraction of a and b: \", a - b)\n",
    "    print(\"Division of a and b: \", a / b)\n",
    "    print(\"Multiplication of a and b: \", a * b)\n"
   ]
  },
  {
   "cell_type": "code",
   "execution_count": 3,
   "id": "71135e77",
   "metadata": {},
   "outputs": [
    {
     "name": "stdout",
     "output_type": "stream",
     "text": [
      "Enter value of a: 50\n",
      "Enter value of b: 25\n",
      "Addition of a and b:  75\n",
      "Subtraction of a and b:  25\n",
      "Division of a and b:  2.0\n",
      "Multiplication of a and b:  1250\n"
     ]
    }
   ],
   "source": [
    "a = int(input(\"Enter value of a: \"))\n",
    "b = int(input(\"Enter value of b: \"))\n",
    "\n",
    "function(a, b)"
   ]
  },
  {
   "cell_type": "code",
   "execution_count": 4,
   "id": "6a7f1b05",
   "metadata": {},
   "outputs": [],
   "source": [
    "def covid(name, temperature=98):\n",
    "    print(\"Patient name:\", name)\n",
    "    print(\"Body temperature\", temperature)\n",
    "    "
   ]
  },
  {
   "cell_type": "code",
   "execution_count": 5,
   "id": "bd2af289",
   "metadata": {},
   "outputs": [
    {
     "name": "stdout",
     "output_type": "stream",
     "text": [
      "Patient name: Vetri Maran\n",
      "Body temperature 98\n"
     ]
    }
   ],
   "source": [
    "covid(\"Vetri Maran\")"
   ]
  }
 ],
 "metadata": {
  "kernelspec": {
   "display_name": "Python 3",
   "language": "python",
   "name": "python3"
  },
  "language_info": {
   "codemirror_mode": {
    "name": "ipython",
    "version": 3
   },
   "file_extension": ".py",
   "mimetype": "text/x-python",
   "name": "python",
   "nbconvert_exporter": "python",
   "pygments_lexer": "ipython3",
   "version": "3.8.5"
  }
 },
 "nbformat": 4,
 "nbformat_minor": 5
}
