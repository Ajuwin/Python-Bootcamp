{
 "cells": [
  {
   "cell_type": "markdown",
   "metadata": {},
   "source": [
    "## Enumerate"
   ]
  },
  {
   "cell_type": "markdown",
   "metadata": {},
   "source": [
    "#### Enumerate a python list and try to print the counter with the list value"
   ]
  },
  {
   "cell_type": "code",
   "execution_count": 1,
   "metadata": {},
   "outputs": [],
   "source": [
    "num_list = [2,4,6,8,10,12,14,16,18,20]"
   ]
  },
  {
   "cell_type": "code",
   "execution_count": 2,
   "metadata": {},
   "outputs": [
    {
     "name": "stdout",
     "output_type": "stream",
     "text": [
      "1 2\n",
      "2 4\n",
      "3 6\n",
      "4 8\n",
      "5 10\n",
      "6 12\n",
      "7 14\n",
      "8 16\n",
      "9 18\n",
      "10 20\n"
     ]
    }
   ],
   "source": [
    "for index, num in enumerate(num_list, 1):\n",
    "    print(index, num)"
   ]
  },
  {
   "cell_type": "code",
   "execution_count": 3,
   "metadata": {},
   "outputs": [
    {
     "data": {
      "text/plain": [
       "[(1, 2),\n",
       " (2, 4),\n",
       " (3, 6),\n",
       " (4, 8),\n",
       " (5, 10),\n",
       " (6, 12),\n",
       " (7, 14),\n",
       " (8, 16),\n",
       " (9, 18),\n",
       " (10, 20)]"
      ]
     },
     "execution_count": 3,
     "metadata": {},
     "output_type": "execute_result"
    }
   ],
   "source": [
    "list(enumerate(num_list, 1))"
   ]
  },
  {
   "cell_type": "markdown",
   "metadata": {},
   "source": [
    "#### Enumerate a python tuple and try to print the counter with the tuple value"
   ]
  },
  {
   "cell_type": "code",
   "execution_count": 7,
   "metadata": {},
   "outputs": [],
   "source": [
    "num = [3,6,9,12,15,18,21,24,27,30]"
   ]
  },
  {
   "cell_type": "code",
   "execution_count": 5,
   "metadata": {},
   "outputs": [
    {
     "name": "stdout",
     "output_type": "stream",
     "text": [
      "1 3\n",
      "2 6\n",
      "3 9\n",
      "4 12\n",
      "5 15\n",
      "6 18\n",
      "7 21\n",
      "8 24\n",
      "9 27\n",
      "10 30\n"
     ]
    }
   ],
   "source": [
    "for index, num in enumerate(num, 1):\n",
    "    print(index, num)"
   ]
  },
  {
   "cell_type": "code",
   "execution_count": 8,
   "metadata": {},
   "outputs": [
    {
     "data": {
      "text/plain": [
       "((1, 3),\n",
       " (2, 6),\n",
       " (3, 9),\n",
       " (4, 12),\n",
       " (5, 15),\n",
       " (6, 18),\n",
       " (7, 21),\n",
       " (8, 24),\n",
       " (9, 27),\n",
       " (10, 30))"
      ]
     },
     "execution_count": 8,
     "metadata": {},
     "output_type": "execute_result"
    }
   ],
   "source": [
    "tuple(enumerate(num, 1))"
   ]
  }
 ],
 "metadata": {
  "kernelspec": {
   "display_name": "Python 3",
   "language": "python",
   "name": "python3"
  },
  "language_info": {
   "codemirror_mode": {
    "name": "ipython",
    "version": 3
   },
   "file_extension": ".py",
   "mimetype": "text/x-python",
   "name": "python",
   "nbconvert_exporter": "python",
   "pygments_lexer": "ipython3",
   "version": "3.7.3"
  }
 },
 "nbformat": 4,
 "nbformat_minor": 2
}
