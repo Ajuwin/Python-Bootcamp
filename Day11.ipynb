{
 "cells": [
  {
   "cell_type": "markdown",
   "id": "b8c2ebfc",
   "metadata": {},
   "source": [
    "### Pip and Modules"
   ]
  },
  {
   "cell_type": "markdown",
   "id": "6ce5a8a8",
   "metadata": {},
   "source": [
    "Pip:\n",
    "\n",
    "    •\tPIP is a package manager for Python packages, or modules\n",
    "\n",
    "    •\tWe can download a package by using pip install <module name>\n",
    "    \n",
    "Modules:\n",
    "\n",
    "    •\tModule is a set of file/function which can be included in the project\n"
   ]
  },
  {
   "cell_type": "markdown",
   "id": "36089d47",
   "metadata": {},
   "source": [
    "### Exercise"
   ]
  },
  {
   "cell_type": "code",
   "execution_count": 2,
   "id": "60b22950",
   "metadata": {},
   "outputs": [
    {
     "name": "stdout",
     "output_type": "stream",
     "text": [
      "Original list [1, 3, 5, 7, 9]\n"
     ]
    }
   ],
   "source": [
    "# 1.\tCreate a python module with list and import the module in another .py file and change the value in list\n",
    "\n",
    "import Day11_listfile as module\n",
    "\n",
    "num_list = module.num_list()\n",
    "print('Original list', num_list)"
   ]
  },
  {
   "cell_type": "code",
   "execution_count": 3,
   "id": "b6b414f7",
   "metadata": {},
   "outputs": [
    {
     "name": "stdout",
     "output_type": "stream",
     "text": [
      "Edited list: [20, 3, 5, 50, 9]\n"
     ]
    }
   ],
   "source": [
    "# Changing the value in list\n",
    "\n",
    "num_list[0] = 20\n",
    "num_list[3] = 50\n",
    "print(\"Edited list:\", num_list)"
   ]
  },
  {
   "cell_type": "code",
   "execution_count": 4,
   "id": "6a825857",
   "metadata": {},
   "outputs": [
    {
     "name": "stdout",
     "output_type": "stream",
     "text": [
      "Requirement already satisfied: pandas in c:\\users\\dell\\appdata\\local\\programs\\python\\python38\\lib\\site-packages (1.1.4)\n",
      "Requirement already satisfied: pytz>=2017.2 in c:\\users\\dell\\appdata\\local\\programs\\python\\python38\\lib\\site-packages (from pandas) (2020.4)\n",
      "Requirement already satisfied: python-dateutil>=2.7.3 in c:\\users\\dell\\appdata\\local\\programs\\python\\python38\\lib\\site-packages (from pandas) (2.8.1)\n",
      "Requirement already satisfied: numpy>=1.15.4 in c:\\users\\dell\\appdata\\local\\programs\\python\\python38\\lib\\site-packages (from pandas) (1.19.4)\n",
      "Requirement already satisfied: six>=1.5 in c:\\users\\dell\\appdata\\local\\programs\\python\\python38\\lib\\site-packages (from python-dateutil>=2.7.3->pandas) (1.15.0)\n"
     ]
    }
   ],
   "source": [
    "# 2.\tInstall pandas package (try to import the package in a python file\n",
    "\n",
    "! pip install pandas"
   ]
  },
  {
   "cell_type": "code",
   "execution_count": 5,
   "id": "e1e23d7d",
   "metadata": {},
   "outputs": [],
   "source": [
    "# importing pandas\n",
    "\n",
    "import pandas as pd"
   ]
  },
  {
   "cell_type": "code",
   "execution_count": 6,
   "id": "d9fee2c3",
   "metadata": {},
   "outputs": [],
   "source": [
    "# 3.\tImport a module that picks random number and write a program to fetch a random number from 1 to  100 on every run\n",
    "\n",
    "# importing random module\n",
    "import random as rand"
   ]
  },
  {
   "cell_type": "code",
   "execution_count": 7,
   "id": "9a810383",
   "metadata": {},
   "outputs": [
    {
     "data": {
      "text/plain": [
       "21"
      ]
     },
     "execution_count": 7,
     "metadata": {},
     "output_type": "execute_result"
    }
   ],
   "source": [
    "rand.randint(1, 101)"
   ]
  },
  {
   "cell_type": "code",
   "execution_count": 8,
   "id": "e01d9ec2",
   "metadata": {},
   "outputs": [
    {
     "data": {
      "text/plain": [
       "8"
      ]
     },
     "execution_count": 8,
     "metadata": {},
     "output_type": "execute_result"
    }
   ],
   "source": [
    "rand.randint(1, 101)"
   ]
  },
  {
   "cell_type": "code",
   "execution_count": 9,
   "id": "a72f59eb",
   "metadata": {},
   "outputs": [
    {
     "data": {
      "text/plain": [
       "31"
      ]
     },
     "execution_count": 9,
     "metadata": {},
     "output_type": "execute_result"
    }
   ],
   "source": [
    "rand.randint(1, 101)"
   ]
  },
  {
   "cell_type": "code",
   "execution_count": 10,
   "id": "b94c6351",
   "metadata": {},
   "outputs": [],
   "source": [
    "# 4.\tImport sys package and find the python path\n",
    "\n",
    "import sys"
   ]
  },
  {
   "cell_type": "code",
   "execution_count": 11,
   "id": "7a720e92",
   "metadata": {},
   "outputs": [
    {
     "data": {
      "text/plain": [
       "['G:\\\\PycharmProjects\\\\Git projects\\\\Python-Bootcamp',\n",
       " 'c:\\\\users\\\\dell\\\\appdata\\\\local\\\\programs\\\\python\\\\python38\\\\python38.zip',\n",
       " 'c:\\\\users\\\\dell\\\\appdata\\\\local\\\\programs\\\\python\\\\python38\\\\DLLs',\n",
       " 'c:\\\\users\\\\dell\\\\appdata\\\\local\\\\programs\\\\python\\\\python38\\\\lib',\n",
       " 'c:\\\\users\\\\dell\\\\appdata\\\\local\\\\programs\\\\python\\\\python38',\n",
       " '',\n",
       " 'c:\\\\users\\\\dell\\\\appdata\\\\local\\\\programs\\\\python\\\\python38\\\\lib\\\\site-packages',\n",
       " 'c:\\\\users\\\\dell\\\\appdata\\\\local\\\\programs\\\\python\\\\python38\\\\lib\\\\site-packages\\\\win32',\n",
       " 'c:\\\\users\\\\dell\\\\appdata\\\\local\\\\programs\\\\python\\\\python38\\\\lib\\\\site-packages\\\\win32\\\\lib',\n",
       " 'c:\\\\users\\\\dell\\\\appdata\\\\local\\\\programs\\\\python\\\\python38\\\\lib\\\\site-packages\\\\Pythonwin',\n",
       " 'c:\\\\users\\\\dell\\\\appdata\\\\local\\\\programs\\\\python\\\\python38\\\\lib\\\\site-packages\\\\IPython\\\\extensions',\n",
       " 'C:\\\\Users\\\\DELL\\\\.ipython']"
      ]
     },
     "execution_count": 11,
     "metadata": {},
     "output_type": "execute_result"
    }
   ],
   "source": [
    "sys.path"
   ]
  },
  {
   "cell_type": "code",
   "execution_count": 12,
   "id": "516e131e",
   "metadata": {},
   "outputs": [
    {
     "name": "stdout",
     "output_type": "stream",
     "text": [
      "Collecting requests\n",
      "  Downloading requests-2.25.1-py2.py3-none-any.whl (61 kB)\n",
      "Requirement already satisfied: idna<3,>=2.5 in c:\\users\\dell\\appdata\\local\\programs\\python\\python38\\lib\\site-packages (from requests) (2.10)\n",
      "Requirement already satisfied: certifi>=2017.4.17 in c:\\users\\dell\\appdata\\local\\programs\\python\\python38\\lib\\site-packages (from requests) (2020.6.20)\n",
      "Requirement already satisfied: urllib3<1.27,>=1.21.1 in c:\\users\\dell\\appdata\\local\\programs\\python\\python38\\lib\\site-packages (from requests) (1.25.11)\n",
      "Requirement already satisfied: chardet<5,>=3.0.2 in c:\\users\\dell\\appdata\\local\\programs\\python\\python38\\lib\\site-packages (from requests) (3.0.4)\n",
      "Installing collected packages: requests\n",
      "Successfully installed requests-2.25.1\n"
     ]
    }
   ],
   "source": [
    "# 5.\tTry to install a package and uninstall a package using pip\n",
    "\n",
    "# Installing requests module\n",
    "\n",
    "! pip install requests"
   ]
  },
  {
   "cell_type": "code",
   "execution_count": 1,
   "id": "c0cbda64",
   "metadata": {},
   "outputs": [
    {
     "name": "stdout",
     "output_type": "stream",
     "text": [
      "Found existing installation: requests 2.25.1\n",
      "Uninstalling requests-2.25.1:\n",
      "  Successfully uninstalled requests-2.25.1\n"
     ]
    }
   ],
   "source": [
    "# Uninstalling requests module\n",
    "\n",
    "!python -m pip uninstall requests --yes"
   ]
  }
 ],
 "metadata": {
  "kernelspec": {
   "display_name": "Python 3",
   "language": "python",
   "name": "python3"
  },
  "language_info": {
   "codemirror_mode": {
    "name": "ipython",
    "version": 3
   },
   "file_extension": ".py",
   "mimetype": "text/x-python",
   "name": "python",
   "nbconvert_exporter": "python",
   "pygments_lexer": "ipython3",
   "version": "3.8.5"
  }
 },
 "nbformat": 4,
 "nbformat_minor": 5
}
