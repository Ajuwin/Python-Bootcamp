{
 "cells": [
  {
   "cell_type": "markdown",
   "id": "ee124b55",
   "metadata": {},
   "source": [
    "### Module: RegEX"
   ]
  },
  {
   "cell_type": "code",
   "execution_count": 1,
   "id": "b9381621",
   "metadata": {},
   "outputs": [],
   "source": [
    "# importing regular expression module.\n",
    "\n",
    "import re"
   ]
  },
  {
   "cell_type": "code",
   "execution_count": 3,
   "id": "a72ad9a6",
   "metadata": {},
   "outputs": [],
   "source": [
    "# 1. Write a Python program for all the cases which can check a string contains only a certain set of characters \n",
    "\n",
    "def check_string(string):\n",
    "    char = re.compile(r\"[^a-zA-Z0-9]\")\n",
    "    string = char.search(string)\n",
    "    print(not bool(string))"
   ]
  },
  {
   "cell_type": "code",
   "execution_count": 4,
   "id": "48ef8c9c",
   "metadata": {},
   "outputs": [
    {
     "name": "stdout",
     "output_type": "stream",
     "text": [
      "True\n"
     ]
    }
   ],
   "source": [
    "check_string(\"AbCdEf43210\")"
   ]
  },
  {
   "cell_type": "code",
   "execution_count": 17,
   "id": "eef99b13",
   "metadata": {},
   "outputs": [],
   "source": [
    "# 2. Write a Python program that matches a word containing 'ab'.\n",
    "\n",
    "def match_ab(string):\n",
    "    matches = re.findall(r\"[a][b][a-z]*\", string)\n",
    "    print(matches)"
   ]
  },
  {
   "cell_type": "code",
   "execution_count": 18,
   "id": "dcc7e83e",
   "metadata": {},
   "outputs": [
    {
     "name": "stdout",
     "output_type": "stream",
     "text": [
      "['ab', 'absent', 'absorbtion', 'abstraction']\n"
     ]
    }
   ],
   "source": [
    "match_ab(\"There are many words that starts with ab. Example: absent, absorbtion, abstraction and so on..\")"
   ]
  },
  {
   "cell_type": "code",
   "execution_count": 22,
   "id": "c36372c9",
   "metadata": {},
   "outputs": [],
   "source": [
    "# 3. Write a Python program to check for a number at the end of a word/sentence.\n",
    "\n",
    "def ends_with(string):\n",
    "    matches = re.findall(r'[0-9]$', string)\n",
    "    if matches:\n",
    "        print(True)\n",
    "    else:\n",
    "        print(False)"
   ]
  },
  {
   "cell_type": "code",
   "execution_count": 25,
   "id": "ae779b09",
   "metadata": {},
   "outputs": [
    {
     "name": "stdout",
     "output_type": "stream",
     "text": [
      "True\n"
     ]
    }
   ],
   "source": [
    "ends_with(\"Hello2021\")"
   ]
  },
  {
   "cell_type": "code",
   "execution_count": 26,
   "id": "e5733a2b",
   "metadata": {},
   "outputs": [
    {
     "name": "stdout",
     "output_type": "stream",
     "text": [
      "False\n"
     ]
    }
   ],
   "source": [
    "ends_with(\"Hello 2021 World\")"
   ]
  },
  {
   "cell_type": "code",
   "execution_count": 69,
   "id": "24dbc031",
   "metadata": {},
   "outputs": [],
   "source": [
    "# 4. Write a Python program to search the numbers (0-9) of length between 1 to 3 in a given string\n",
    "\n",
    "def check_num(string):\n",
    "    matches = re.finditer(r\"([0-9]{1,3})\", string)\n",
    "    for i in matches:\n",
    "        print(i.group(0))"
   ]
  },
  {
   "cell_type": "code",
   "execution_count": 70,
   "id": "2d9fa3e2",
   "metadata": {},
   "outputs": [
    {
     "name": "stdout",
     "output_type": "stream",
     "text": [
      "100\n",
      "1\n"
     ]
    }
   ],
   "source": [
    "check_num(\"100 is greater than 1\")"
   ]
  },
  {
   "cell_type": "code",
   "execution_count": 59,
   "id": "d483b992",
   "metadata": {},
   "outputs": [
    {
     "name": "stdout",
     "output_type": "stream",
     "text": [
      "221\n"
     ]
    }
   ],
   "source": [
    "check_num(\"The Name Is Sherlock Holmes, and the Address Is 221B Baker Street\")"
   ]
  },
  {
   "cell_type": "code",
   "execution_count": 77,
   "id": "7d9ec8a9",
   "metadata": {},
   "outputs": [],
   "source": [
    "# 5. Write a Python program to match a string that contains only uppercase letters\n",
    "\n",
    "def check_uppercase(string):\n",
    "    matches = re.findall(r'[A-Z][A-Z]+', string)\n",
    "    print(matches)"
   ]
  },
  {
   "cell_type": "code",
   "execution_count": 78,
   "id": "f856e3c3",
   "metadata": {},
   "outputs": [
    {
     "name": "stdout",
     "output_type": "stream",
     "text": [
      "['T', 'N', 'I', 'SHERLOCK', 'HOLMES', 'A', 'I', 'B', 'B', 'S']\n"
     ]
    }
   ],
   "source": [
    "check_uppercase(\"The Name Is SHERLOCK HOLMES, and the Address Is 221B Baker Street\")"
   ]
  },
  {
   "cell_type": "code",
   "execution_count": null,
   "id": "c1d76ae8",
   "metadata": {},
   "outputs": [],
   "source": []
  }
 ],
 "metadata": {
  "kernelspec": {
   "display_name": "Python 3",
   "language": "python",
   "name": "python3"
  },
  "language_info": {
   "codemirror_mode": {
    "name": "ipython",
    "version": 3
   },
   "file_extension": ".py",
   "mimetype": "text/x-python",
   "name": "python",
   "nbconvert_exporter": "python",
   "pygments_lexer": "ipython3",
   "version": "3.8.5"
  }
 },
 "nbformat": 4,
 "nbformat_minor": 5
}
