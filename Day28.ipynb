{
 "cells": [
  {
   "cell_type": "markdown",
   "id": "e6afd1f5",
   "metadata": {},
   "source": [
    "## Multithreaded Programming"
   ]
  },
  {
   "cell_type": "markdown",
   "id": "c4bce704",
   "metadata": {},
   "source": [
    "#### Define a subclass using threading.Thread class"
   ]
  },
  {
   "cell_type": "code",
   "execution_count": 1,
   "id": "de00a808",
   "metadata": {},
   "outputs": [],
   "source": [
    "import threading\n",
    "import time"
   ]
  },
  {
   "cell_type": "code",
   "execution_count": 3,
   "id": "75df89c7",
   "metadata": {},
   "outputs": [],
   "source": [
    "class Hello(threading.Thread):\n",
    "    def run(self):\n",
    "        for i in range(5):\n",
    "            print(f\"{time.ctime()}: {threading.current_thread().getName()}\")\n",
    "            time.sleep(1)"
   ]
  },
  {
   "cell_type": "markdown",
   "id": "47efd116",
   "metadata": {},
   "source": [
    "#### Instantiate the subclass and trigger the thread."
   ]
  },
  {
   "cell_type": "code",
   "execution_count": 4,
   "id": "6ecf3950",
   "metadata": {},
   "outputs": [],
   "source": [
    "thread = Hello()"
   ]
  },
  {
   "cell_type": "code",
   "execution_count": 5,
   "id": "e5681629",
   "metadata": {},
   "outputs": [
    {
     "name": "stdout",
     "output_type": "stream",
     "text": [
      "Tue Jul 13 21:48:19 2021: Thread-7\n",
      "Tue Jul 13 21:48:20 2021: Thread-7\n",
      "Tue Jul 13 21:48:21 2021: Thread-7\n",
      "Tue Jul 13 21:48:22 2021: Thread-7\n",
      "Tue Jul 13 21:48:23 2021: Thread-7\n",
      "Control returned to: MainThread\n",
      "Done\n"
     ]
    }
   ],
   "source": [
    "thread.start()\n",
    "thread.join()\n",
    "\n",
    "print(f\"Control returned to: {threading.current_thread().getName()}\")\n",
    "print(\"Done\")"
   ]
  }
 ],
 "metadata": {
  "kernelspec": {
   "display_name": "Python 3 (ipykernel)",
   "language": "python",
   "name": "python3"
  },
  "language_info": {
   "codemirror_mode": {
    "name": "ipython",
    "version": 3
   },
   "file_extension": ".py",
   "mimetype": "text/x-python",
   "name": "python",
   "nbconvert_exporter": "python",
   "pygments_lexer": "ipython3",
   "version": "3.8.10"
  }
 },
 "nbformat": 4,
 "nbformat_minor": 5
}
