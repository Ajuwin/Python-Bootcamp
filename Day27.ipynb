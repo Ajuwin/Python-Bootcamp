{
 "cells": [
  {
   "cell_type": "markdown",
   "id": "e05d246d",
   "metadata": {},
   "source": [
    "## Beautiful Soup"
   ]
  },
  {
   "cell_type": "code",
   "execution_count": 1,
   "id": "e7eda691",
   "metadata": {},
   "outputs": [],
   "source": [
    "import requests\n",
    "from bs4 import BeautifulSoup\n",
    "import openpyxl"
   ]
  },
  {
   "cell_type": "code",
   "execution_count": 2,
   "id": "d583c792",
   "metadata": {},
   "outputs": [],
   "source": [
    "URL = 'https://www.flipkart.com/'\n",
    "r = requests.get(URL)"
   ]
  },
  {
   "cell_type": "code",
   "execution_count": 3,
   "id": "3c752acc",
   "metadata": {},
   "outputs": [],
   "source": [
    "page = requests.get( URL )\n",
    "\n",
    "soup = BeautifulSoup( page.content , 'html.parser')"
   ]
  },
  {
   "cell_type": "code",
   "execution_count": 4,
   "id": "429f311b",
   "metadata": {},
   "outputs": [],
   "source": [
    "class_list = set()"
   ]
  },
  {
   "cell_type": "code",
   "execution_count": 6,
   "id": "448afea9",
   "metadata": {},
   "outputs": [],
   "source": [
    "tags = {tag.name for tag in soup.find_all()}"
   ]
  },
  {
   "cell_type": "code",
   "execution_count": 8,
   "id": "72a80d35",
   "metadata": {},
   "outputs": [],
   "source": [
    "for tag in tags:\n",
    "    for i in soup.find_all( tag ):\n",
    "        if i.has_attr( \"class\" ):\n",
    "            if len( i['class'] ) != 0:\n",
    "                class_list.add(\" \".join( i['class']))"
   ]
  },
  {
   "cell_type": "code",
   "execution_count": 9,
   "id": "37be258e",
   "metadata": {},
   "outputs": [
    {
     "name": "stdout",
     "output_type": "stream",
     "text": [
      "{'_3qX0zy', 'zZ3yfL', '_2FVHGh', '_1bS9ic', '_396cs4', '_1mkliO', '_1U1qnR', '_6t1WkM _3HqJxg', '_3E8aIl _1o5-sV', 'kJjFO0', '_3-dnWo', '_3_C9Hx', '_3rc_xQ', '_3voSl0', 'dvoOzE', 'bra6U8', '_2N81D7', '_2LURSF col col-4-12', 'col gu12 _8Qljeg', '_1psGvi _3BvnxG', '_2TdLiZ', '_2KpZ6l _3dESVI', '_3YgSsQ', '_3eARKq', 'kJjFO0 _3DIhEh', 'go_DOp _2errNR', '_396cs4 _3exPp9', '_2NKhZn _1U1qnR', '_1cmsER', 'xtXmba', 'L0Z3Pu', 'CXW8mj', '_6WQwDJ', 'col gu12 _3MmGvF', 'FXox6K', 'EiX-pS', '_2sVfI7', 'row', '_3704LK', '_2a3TMW', '_2t2dSp', '_2kgArB _2CP_Bu', '_331-kn _2tvxW', '_3IT4e6', '_2XoPFN', '_39SDPR', '_1WXTS9', '_1arVWX', '_3JHi0r', '_1YokD2 _2GoDe3', '_3ChZRr _1rs5Pv', '_2oyLgr', '_2hKRMr _2CfYpZ', '_2LaGin', '_14mA3H', '_1kfTjk', '_2xm1JU', '_2gTTdy', '_30kJiF', '_1AtVbE', '_1Vtd9D', '_1LJS6T', '_1AcS-S', '_2cAig-', '_28p97w', '_3OO5Xc', 'eFQ30H', 'mYI3GX', '_3khuHA', '_3CuAg8', '_2M8cLY header-form-search', '_1zrN4q', '_2-wzdc', '_1rH5Jn', '_2uz0vJ', '_1_3w1N', '_1xtBwk', '_1mUdNz', '_37K3-p', '_3ZYowz _2CfYpZ', '_2OHU_q', 'col-12-12 _2oO9oE', 'z3ht-w', 'col-12-12 _1MRYA1', 'hDTmm5', 'LfkXVL', '_10pg75', '_1TmfNK', '_2Xfa2_', '_1bEAQy', 'V3C5bO', '_37M3Pb', '_2Brcj4 address', '_3LU4EM', '_2_b_Xk', '_3E8aIl KdL3Vb', 'exehdJ', '_1psGvi', '_35l9rN _31Mq1b', '_2kgArB _3y7w9p', '_35l9rN rek5UH _1tKnHb', '_2WErco row', '_23HYg_', '_1mIbUg', '_2tDhp2', '_21ljIi', 'rYiIcX', '_2Brcj4', '_1Y5PSy', '_3ZKfA2', 'InyRMC _3Il5oO', '_1ve3GO', '_3SkBxJ', '_1oHPGm', 'YUhWwv', '_1psGvi SLyWEo', '_24OVr-', 'go_DOp', '_1AtVbE col-12-12', '_1GTrm1', '_1EcK2J _38JCdA', '_34RNph'}\n"
     ]
    }
   ],
   "source": [
    "print(class_list)"
   ]
  },
  {
   "cell_type": "code",
   "execution_count": 11,
   "id": "c022f75e",
   "metadata": {},
   "outputs": [
    {
     "data": {
      "text/plain": [
       "122"
      ]
     },
     "execution_count": 11,
     "metadata": {},
     "output_type": "execute_result"
    }
   ],
   "source": [
    "class_list = list(class_list)\n",
    "len(class_list)"
   ]
  },
  {
   "cell_type": "code",
   "execution_count": 12,
   "id": "91e20c4e",
   "metadata": {},
   "outputs": [],
   "source": [
    "work_book = openpyxl.Workbook()\n",
    "worksheet = work_book.active"
   ]
  },
  {
   "cell_type": "code",
   "execution_count": 13,
   "id": "64107add",
   "metadata": {},
   "outputs": [],
   "source": [
    "for i in range(len(class_list)):\n",
    "    worksheet.cell(row=i+1, column=1).value = class_list[i]"
   ]
  },
  {
   "cell_type": "code",
   "execution_count": 14,
   "id": "6f5e32ec",
   "metadata": {},
   "outputs": [],
   "source": [
    "work_book.save('class_details.xlsx')"
   ]
  },
  {
   "cell_type": "code",
   "execution_count": 15,
   "id": "63dccf4b",
   "metadata": {},
   "outputs": [],
   "source": [
    "work_book.close()"
   ]
  },
  {
   "cell_type": "code",
   "execution_count": 16,
   "id": "6bdc00ed",
   "metadata": {},
   "outputs": [],
   "source": [
    "book = openpyxl.load_workbook('class_details.xlsx')\n",
    "sheet = book.active"
   ]
  },
  {
   "cell_type": "code",
   "execution_count": 17,
   "id": "367f28f0",
   "metadata": {},
   "outputs": [],
   "source": [
    "cells = sheet['A1': 'A121']"
   ]
  },
  {
   "cell_type": "code",
   "execution_count": 19,
   "id": "f166a561",
   "metadata": {},
   "outputs": [
    {
     "name": "stdout",
     "output_type": "stream",
     "text": [
      "1: _3qX0zy\n",
      "2: zZ3yfL\n",
      "3: _2FVHGh\n",
      "4: _1bS9ic\n",
      "5: _396cs4\n",
      "6: _1mkliO\n",
      "7: _1U1qnR\n",
      "8: _6t1WkM _3HqJxg\n",
      "9: _3E8aIl _1o5-sV\n",
      "10: kJjFO0\n",
      "11: _3-dnWo\n",
      "12: _3_C9Hx\n",
      "13: _3rc_xQ\n",
      "14: _3voSl0\n",
      "15: dvoOzE\n",
      "16: bra6U8\n",
      "17: _2N81D7\n",
      "18: _2LURSF col col-4-12\n",
      "19: col gu12 _8Qljeg\n",
      "20: _1psGvi _3BvnxG\n",
      "21: _2TdLiZ\n",
      "22: _2KpZ6l _3dESVI\n",
      "23: _3YgSsQ\n",
      "24: _3eARKq\n",
      "25: kJjFO0 _3DIhEh\n",
      "26: go_DOp _2errNR\n",
      "27: _396cs4 _3exPp9\n",
      "28: _2NKhZn _1U1qnR\n",
      "29: _1cmsER\n",
      "30: xtXmba\n",
      "31: L0Z3Pu\n",
      "32: CXW8mj\n",
      "33: _6WQwDJ\n",
      "34: col gu12 _3MmGvF\n",
      "35: FXox6K\n",
      "36: EiX-pS\n",
      "37: _2sVfI7\n",
      "38: row\n",
      "39: _3704LK\n",
      "40: _2a3TMW\n",
      "41: _2t2dSp\n",
      "42: _2kgArB _2CP_Bu\n",
      "43: _331-kn _2tvxW\n",
      "44: _3IT4e6\n",
      "45: _2XoPFN\n",
      "46: _39SDPR\n",
      "47: _1WXTS9\n",
      "48: _1arVWX\n",
      "49: _3JHi0r\n",
      "50: _1YokD2 _2GoDe3\n",
      "51: _3ChZRr _1rs5Pv\n",
      "52: _2oyLgr\n",
      "53: _2hKRMr _2CfYpZ\n",
      "54: _2LaGin\n",
      "55: _14mA3H\n",
      "56: _1kfTjk\n",
      "57: _2xm1JU\n",
      "58: _2gTTdy\n",
      "59: _30kJiF\n",
      "60: _1AtVbE\n",
      "61: _1Vtd9D\n",
      "62: _1LJS6T\n",
      "63: _1AcS-S\n",
      "64: _2cAig-\n",
      "65: _28p97w\n",
      "66: _3OO5Xc\n",
      "67: eFQ30H\n",
      "68: mYI3GX\n",
      "69: _3khuHA\n",
      "70: _3CuAg8\n",
      "71: _2M8cLY header-form-search\n",
      "72: _1zrN4q\n",
      "73: _2-wzdc\n",
      "74: _1rH5Jn\n",
      "75: _2uz0vJ\n",
      "76: _1_3w1N\n",
      "77: _1xtBwk\n",
      "78: _1mUdNz\n",
      "79: _37K3-p\n",
      "80: _3ZYowz _2CfYpZ\n",
      "81: _2OHU_q\n",
      "82: col-12-12 _2oO9oE\n",
      "83: z3ht-w\n",
      "84: col-12-12 _1MRYA1\n",
      "85: hDTmm5\n",
      "86: LfkXVL\n",
      "87: _10pg75\n",
      "88: _1TmfNK\n",
      "89: _2Xfa2_\n",
      "90: _1bEAQy\n",
      "91: V3C5bO\n",
      "92: _37M3Pb\n",
      "93: _2Brcj4 address\n",
      "94: _3LU4EM\n",
      "95: _2_b_Xk\n",
      "96: _3E8aIl KdL3Vb\n",
      "97: exehdJ\n",
      "98: _1psGvi\n",
      "99: _35l9rN _31Mq1b\n",
      "100: _2kgArB _3y7w9p\n",
      "101: _35l9rN rek5UH _1tKnHb\n",
      "102: _2WErco row\n",
      "103: _23HYg_\n",
      "104: _1mIbUg\n",
      "105: _2tDhp2\n",
      "106: _21ljIi\n",
      "107: rYiIcX\n",
      "108: _2Brcj4\n",
      "109: _1Y5PSy\n",
      "110: _3ZKfA2\n",
      "111: InyRMC _3Il5oO\n",
      "112: _1ve3GO\n",
      "113: _3SkBxJ\n",
      "114: _1oHPGm\n",
      "115: YUhWwv\n",
      "116: _1psGvi SLyWEo\n",
      "117: _24OVr-\n",
      "118: go_DOp\n",
      "119: _1AtVbE col-12-12\n",
      "120: _1GTrm1\n",
      "121: _1EcK2J _38JCdA\n",
      "122: _34RNph\n"
     ]
    }
   ],
   "source": [
    "for index, col in enumerate(sheet['A']):\n",
    "    print (f\"{index+1}: {col.value}\")"
   ]
  },
  {
   "cell_type": "code",
   "execution_count": 20,
   "id": "4e22507b",
   "metadata": {},
   "outputs": [],
   "source": [
    "book.close()"
   ]
  }
 ],
 "metadata": {
  "kernelspec": {
   "display_name": "Python 3 (ipykernel)",
   "language": "python",
   "name": "python3"
  },
  "language_info": {
   "codemirror_mode": {
    "name": "ipython",
    "version": 3
   },
   "file_extension": ".py",
   "mimetype": "text/x-python",
   "name": "python",
   "nbconvert_exporter": "python",
   "pygments_lexer": "ipython3",
   "version": "3.8.10"
  }
 },
 "nbformat": 4,
 "nbformat_minor": 5
}
