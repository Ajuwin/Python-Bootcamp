{
 "cells": [
  {
   "cell_type": "markdown",
   "id": "87379971",
   "metadata": {},
   "source": [
    "## Mysql"
   ]
  },
  {
   "cell_type": "code",
   "execution_count": 1,
   "id": "43d38186",
   "metadata": {},
   "outputs": [],
   "source": [
    "import mysql.connector"
   ]
  },
  {
   "cell_type": "code",
   "execution_count": 2,
   "id": "599bc0a1",
   "metadata": {},
   "outputs": [
    {
     "name": "stdout",
     "output_type": "stream",
     "text": [
      "<mysql.connector.connection.MySQLConnection object at 0x000001E44C84E190>\n"
     ]
    }
   ],
   "source": [
    "con = mysql.connector.connect(host=\"localhost\", user=\"root\", passwd=\"Microsoft@9623\")\n",
    "print(con)"
   ]
  },
  {
   "cell_type": "code",
   "execution_count": 3,
   "id": "3661ffe5",
   "metadata": {},
   "outputs": [],
   "source": [
    "mycursor = con.cursor()"
   ]
  },
  {
   "cell_type": "code",
   "execution_count": 4,
   "id": "bdd8c4ee",
   "metadata": {},
   "outputs": [
    {
     "name": "stdout",
     "output_type": "stream",
     "text": [
      "('doctor',)\n",
      "('information_schema',)\n",
      "('mydatabase',)\n",
      "('mysql',)\n",
      "('performance_schema',)\n",
      "('sakila',)\n",
      "('student_dbm',)\n",
      "('sys',)\n",
      "('world',)\n"
     ]
    }
   ],
   "source": [
    "mycursor.execute(\"SHOW DATABASES\")\n",
    "\n",
    "for db in mycursor:\n",
    "    print(db)"
   ]
  },
  {
   "cell_type": "code",
   "execution_count": 5,
   "id": "ffbe2cb2",
   "metadata": {},
   "outputs": [],
   "source": [
    "mycursor.execute(\"CREATE DATABASE Employee_DB\")"
   ]
  },
  {
   "cell_type": "code",
   "execution_count": 6,
   "id": "fcdd1a73",
   "metadata": {},
   "outputs": [
    {
     "name": "stdout",
     "output_type": "stream",
     "text": [
      "('doctor',)\n",
      "('employee_db',)\n",
      "('information_schema',)\n",
      "('mydatabase',)\n",
      "('mysql',)\n",
      "('performance_schema',)\n",
      "('sakila',)\n",
      "('student_dbm',)\n",
      "('sys',)\n",
      "('world',)\n"
     ]
    }
   ],
   "source": [
    "mycursor.execute(\"SHOW DATABASES\")\n",
    "\n",
    "for db in mycursor:\n",
    "    print(db)"
   ]
  },
  {
   "cell_type": "code",
   "execution_count": 7,
   "id": "71ebdf99",
   "metadata": {},
   "outputs": [
    {
     "name": "stdout",
     "output_type": "stream",
     "text": [
      "<mysql.connector.connection.MySQLConnection object at 0x000001E44DDB1820>\n"
     ]
    }
   ],
   "source": [
    "con = mysql.connector.connect(host=\"localhost\", user=\"root\", passwd=\"Microsoft@9623\", database=\"employee_db\")\n",
    "print(con)"
   ]
  },
  {
   "cell_type": "code",
   "execution_count": 8,
   "id": "dfaf97f7",
   "metadata": {},
   "outputs": [],
   "source": [
    "dbase = con.cursor()"
   ]
  },
  {
   "cell_type": "markdown",
   "id": "a5d70ded",
   "metadata": {},
   "source": [
    "### Create an Employee Table with employee name,employee ID & Salary"
   ]
  },
  {
   "cell_type": "code",
   "execution_count": 11,
   "id": "0cde113f",
   "metadata": {},
   "outputs": [],
   "source": [
    "dbase.execute(\"CREATE TABLE Employee (EmployeeId VARCHAR(10), EmployeeName VARCHAR(20), EmployeeSalary INT(10))\")"
   ]
  },
  {
   "cell_type": "code",
   "execution_count": 12,
   "id": "951aa5f3",
   "metadata": {},
   "outputs": [
    {
     "name": "stdout",
     "output_type": "stream",
     "text": [
      "('employee',)\n"
     ]
    }
   ],
   "source": [
    "dbase.execute(\"SHOW TABLES\")\n",
    "\n",
    "for table in dbase:\n",
    "    print(table)"
   ]
  },
  {
   "cell_type": "code",
   "execution_count": 13,
   "id": "895413ff",
   "metadata": {},
   "outputs": [],
   "source": [
    "sql = \"INSERT INTO Employee (EmployeeId, EmployeeName, EmployeeSalary) VALUES (%s,%s,%s)\"\n",
    "values = [\n",
    "    ('1', 'Walter White', '40000'),\n",
    "    ('2', 'Jesse Pinkman', '35000'),\n",
    "    ('3', 'Arthur Shelby', '37000'),\n",
    "    ('4', 'Ross Geller', '30000'),\n",
    "    ('5', 'Denver', '42000'),\n",
    "    ('6', 'Berlin', '45000'),\n",
    "    ('7', 'Harry', '50000'),\n",
    "    ('8', 'Ellis Carver', '52000'),\n",
    "    ('9', 'Omar Little', '60000'),\n",
    "    ('10', 'Jimmy McNulty', '55000')\n",
    "]"
   ]
  },
  {
   "cell_type": "code",
   "execution_count": 14,
   "id": "13a4cd51",
   "metadata": {},
   "outputs": [
    {
     "name": "stdout",
     "output_type": "stream",
     "text": [
      "10 record inserted\n"
     ]
    }
   ],
   "source": [
    "dbase.executemany(sql,values)\n",
    "con.commit()",
    "\n",
    "print(f\"{dbase.rowcount} record inserted\")"
   ]
  },
  {
   "cell_type": "code",
   "execution_count": 19,
   "id": "e07bbdca",
   "metadata": {},
   "outputs": [],
   "source": [
    "dbase.execute(\"SELECT * FROM employee\")"
   ]
  },
  {
   "cell_type": "code",
   "execution_count": 20,
   "id": "95ec79b5",
   "metadata": {},
   "outputs": [
    {
     "name": "stdout",
     "output_type": "stream",
     "text": [
      "('1', 'Walter White', 40000)\n",
      "('2', 'Jesse Pinkman', 35000)\n",
      "('3', 'Arthur Shelby', 37000)\n",
      "('4', 'Ross Geller', 30000)\n",
      "('5', 'Denver', 42000)\n",
      "('6', 'Berlin', 45000)\n",
      "('7', 'Harry', 50000)\n",
      "('8', 'Ellis Carver', 52000)\n",
      "('9', 'Omar Little', 60000)\n",
      "('10', 'Jimmy McNulty', 55000)\n"
     ]
    }
   ],
   "source": [
    "mydatabase = dbase.fetchall()\n",
    "for data in mydatabase:\n",
    "    print(data)"
   ]
  },
  {
   "cell_type": "markdown",
   "id": "224e57a8",
   "metadata": {},
   "source": [
    "### Write a query to get the maximum and minimum salary from employees table"
   ]
  },
  {
   "cell_type": "code",
   "execution_count": 47,
   "id": "e37d9b92",
   "metadata": {},
   "outputs": [],
   "source": [
    "dbase.execute(\"SELECT MIN(EmployeeSalary) AS MinimumSalary FROM employee\")"
   ]
  },
  {
   "cell_type": "code",
   "execution_count": 48,
   "id": "3a7644e7",
   "metadata": {},
   "outputs": [
    {
     "name": "stdout",
     "output_type": "stream",
     "text": [
      "Minimum Salary Rs.30000\n"
     ]
    }
   ],
   "source": [
    "minimum = dbase.fetchone()\n",
    "print(f\"Minimum Salary Rs.{minimum[0]}\")"
   ]
  },
  {
   "cell_type": "code",
   "execution_count": 49,
   "id": "a36710a4",
   "metadata": {},
   "outputs": [],
   "source": [
    "dbase.execute(\"SELECT MAX(EmployeeSalary) AS MaximumSalary FROM employee\")"
   ]
  },
  {
   "cell_type": "code",
   "execution_count": 50,
   "id": "a8aaf22b",
   "metadata": {},
   "outputs": [
    {
     "name": "stdout",
     "output_type": "stream",
     "text": [
      "Maximum Salary Rs.60000\n"
     ]
    }
   ],
   "source": [
    "maximum = dbase.fetchone()\n",
    "print(f\"Maximum Salary Rs.{maximum[0]}\")"
   ]
  },
  {
   "cell_type": "markdown",
   "id": "c3bd5725",
   "metadata": {},
   "source": [
    "### Write a query to get the number of employees working with the company"
   ]
  },
  {
   "cell_type": "code",
   "execution_count": 51,
   "id": "632de407",
   "metadata": {},
   "outputs": [],
   "source": [
    "dbase.execute(\"SELECT COUNT(EmployeeId) FROM Employee\")"
   ]
  },
  {
   "cell_type": "code",
   "execution_count": 52,
   "id": "4eba4f74",
   "metadata": {},
   "outputs": [
    {
     "name": "stdout",
     "output_type": "stream",
     "text": [
      "Total number of employees working: 10\n"
     ]
    }
   ],
   "source": [
    "count = dbase.fetchone()\n",
    "print(f\"Total number of employees working: {count[0]}\")"
   ]
  },
  {
   "cell_type": "markdown",
   "id": "0d0735ba",
   "metadata": {},
   "source": [
    "### Write a query to get the first 3 characters of first name from employees table"
   ]
  },
  {
   "cell_type": "code",
   "execution_count": 55,
   "id": "29794abd",
   "metadata": {},
   "outputs": [],
   "source": [
    "dbase.execute(\"SELECT SUBSTRING(EmployeeName,1,3) FROM Employee\")"
   ]
  },
  {
   "cell_type": "code",
   "execution_count": 56,
   "id": "4a1467a7",
   "metadata": {},
   "outputs": [
    {
     "name": "stdout",
     "output_type": "stream",
     "text": [
      "Wal\n",
      "Jes\n",
      "Art\n",
      "Ros\n",
      "Den\n",
      "Ber\n",
      "Har\n",
      "Ell\n",
      "Oma\n",
      "Jim\n"
     ]
    }
   ],
   "source": [
    "names = dbase.fetchall()\n",
    "\n",
    "for name in names:\n",
    "    print(name[0])"
   ]
  },
  {
   "cell_type": "code",
   "execution_count": 57,
   "id": "1a30eeaa",
   "metadata": {},
   "outputs": [],
   "source": [
    "con.close()"
   ]
  }
 ],
 "metadata": {
  "kernelspec": {
   "display_name": "Python 3",
   "language": "python",
   "name": "python3"
  },
  "language_info": {
   "codemirror_mode": {
    "name": "ipython",
    "version": 3
   },
   "file_extension": ".py",
   "mimetype": "text/x-python",
   "name": "python",
   "nbconvert_exporter": "python",
   "pygments_lexer": "ipython3",
   "version": "3.9.6"
  }
 },
 "nbformat": 4,
 "nbformat_minor": 5
}
