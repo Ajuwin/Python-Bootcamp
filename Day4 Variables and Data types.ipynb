{
 "cells": [
  {
   "cell_type": "markdown",
   "id": "92fef69f",
   "metadata": {},
   "source": [
    "### Variables"
   ]
  },
  {
   "cell_type": "markdown",
   "id": "a7e908fa",
   "metadata": {},
   "source": [
    "A variable is initially declared to have a specific data type, and any value assigned to it during its lifetime must always have that type, a variable may be assigned a value of one type and then later re-assigned a value of a different type"
   ]
  },
  {
   "cell_type": "code",
   "execution_count": 1,
   "id": "6c23786d",
   "metadata": {},
   "outputs": [
    {
     "name": "stdout",
     "output_type": "stream",
     "text": [
      "2\n"
     ]
    }
   ],
   "source": [
    "number_of_wheels = 2\n",
    "print(number_of_wheels)"
   ]
  },
  {
   "cell_type": "code",
   "execution_count": 2,
   "id": "4146e1ea",
   "metadata": {},
   "outputs": [
    {
     "name": "stdout",
     "output_type": "stream",
     "text": [
      "12345678\n"
     ]
    }
   ],
   "source": [
    "print(12345678)  # Integer"
   ]
  },
  {
   "cell_type": "code",
   "execution_count": 3,
   "id": "7afc94d5",
   "metadata": {},
   "outputs": [
    {
     "name": "stdout",
     "output_type": "stream",
     "text": [
      "3.14\n"
     ]
    }
   ],
   "source": [
    "print(3.14)   # Floating Number"
   ]
  },
  {
   "cell_type": "code",
   "execution_count": 4,
   "id": "cd2dff9e",
   "metadata": {},
   "outputs": [
    {
     "name": "stdout",
     "output_type": "stream",
     "text": [
      "(3+2j)\n"
     ]
    }
   ],
   "source": [
    "print(3+2j)  # Complex Number"
   ]
  },
  {
   "cell_type": "code",
   "execution_count": 5,
   "id": "3f48d654",
   "metadata": {},
   "outputs": [
    {
     "name": "stdout",
     "output_type": "stream",
     "text": [
      "Hellooo\n"
     ]
    }
   ],
   "source": [
    "print(\"Hellooo\")  # String"
   ]
  },
  {
   "cell_type": "code",
   "execution_count": 6,
   "id": "a666ea81",
   "metadata": {},
   "outputs": [
    {
     "name": "stdout",
     "output_type": "stream",
     "text": [
      "True\n",
      "False\n"
     ]
    }
   ],
   "source": [
    "print(True)   # Boolean\n",
    "print(False)"
   ]
  },
  {
   "cell_type": "markdown",
   "id": "866fc2f0",
   "metadata": {},
   "source": [
    "### Assigning Values to Variables "
   ]
  },
  {
   "cell_type": "code",
   "execution_count": 7,
   "id": "2bcd6ca0",
   "metadata": {},
   "outputs": [],
   "source": [
    "number = 2                        # An integer assignment\n",
    "pie = 3.14                        # A floating point\n",
    "programming_language = \"Python\"   # A string"
   ]
  },
  {
   "cell_type": "code",
   "execution_count": 8,
   "id": "24f353e9",
   "metadata": {},
   "outputs": [
    {
     "name": "stdout",
     "output_type": "stream",
     "text": [
      "2\n",
      "3.14\n",
      "Python\n"
     ]
    }
   ],
   "source": [
    "print(number)\n",
    "print(pie)\n",
    "print(programming_language)"
   ]
  },
  {
   "cell_type": "markdown",
   "id": "b3145628",
   "metadata": {},
   "source": [
    "### Exercise"
   ]
  },
  {
   "cell_type": "code",
   "execution_count": 9,
   "id": "a21bf6be",
   "metadata": {},
   "outputs": [],
   "source": [
    "a = b = c = 100\n",
    "a /= 10            # Divide a by 10\n",
    "b *= 50            # Multiply b by 50\n",
    "c += 60            # Add c value by 60"
   ]
  },
  {
   "cell_type": "code",
   "execution_count": 10,
   "id": "7123badc",
   "metadata": {},
   "outputs": [
    {
     "name": "stdout",
     "output_type": "stream",
     "text": [
      "10.0\n",
      "5000\n",
      "160\n"
     ]
    }
   ],
   "source": [
    "print(a)\n",
    "print(b)\n",
    "print(c)"
   ]
  },
  {
   "cell_type": "code",
   "execution_count": 23,
   "id": "1df1495e",
   "metadata": {},
   "outputs": [],
   "source": [
    "string = 'smile'"
   ]
  },
  {
   "cell_type": "code",
   "execution_count": 24,
   "id": "d04defd3",
   "metadata": {},
   "outputs": [],
   "source": [
    "string = string[:2] + 'G' + string[3:]"
   ]
  },
  {
   "cell_type": "code",
   "execution_count": 25,
   "id": "3329914e",
   "metadata": {},
   "outputs": [
    {
     "name": "stdout",
     "output_type": "stream",
     "text": [
      "smGle\n"
     ]
    }
   ],
   "source": [
    "print(string)"
   ]
  },
  {
   "cell_type": "code",
   "execution_count": 29,
   "id": "c01b1680",
   "metadata": {},
   "outputs": [
    {
     "name": "stdout",
     "output_type": "stream",
     "text": [
      "a:  10\n",
      "b:  10.5\n"
     ]
    }
   ],
   "source": [
    "a = 10     # Integer\n",
    "b = 10.5   # Float\n",
    "\n",
    "print('a: ', a)\n",
    "print('b: ', b)"
   ]
  },
  {
   "cell_type": "code",
   "execution_count": 30,
   "id": "16f0d0ff",
   "metadata": {},
   "outputs": [
    {
     "name": "stdout",
     "output_type": "stream",
     "text": [
      "a:  10.0\n"
     ]
    }
   ],
   "source": [
    "a = float(a)\n",
    "print('a: ', a)"
   ]
  },
  {
   "cell_type": "code",
   "execution_count": 31,
   "id": "0a0e5130",
   "metadata": {},
   "outputs": [
    {
     "name": "stdout",
     "output_type": "stream",
     "text": [
      "b:  10\n"
     ]
    }
   ],
   "source": [
    "b = int(b)\n",
    "print('b: ', b)"
   ]
  }
 ],
 "metadata": {
  "kernelspec": {
   "display_name": "Python 3",
   "language": "python",
   "name": "python3"
  },
  "language_info": {
   "codemirror_mode": {
    "name": "ipython",
    "version": 3
   },
   "file_extension": ".py",
   "mimetype": "text/x-python",
   "name": "python",
   "nbconvert_exporter": "python",
   "pygments_lexer": "ipython3",
   "version": "3.8.5"
  }
 },
 "nbformat": 4,
 "nbformat_minor": 5
}
