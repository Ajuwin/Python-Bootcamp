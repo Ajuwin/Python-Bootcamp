{
 "cells": [
  {
   "cell_type": "markdown",
   "id": "56a2ed81",
   "metadata": {},
   "source": [
    "### User Input "
   ]
  },
  {
   "cell_type": "markdown",
   "id": "ed6ef454",
   "metadata": {},
   "source": [
    "•\tThe input() function allows user input \n",
    "\n",
    "•\tYou can assign the user input to a variable"
   ]
  },
  {
   "cell_type": "code",
   "execution_count": 1,
   "id": "cc53e233",
   "metadata": {},
   "outputs": [
    {
     "name": "stdout",
     "output_type": "stream",
     "text": [
      "Enter your favourite colour: Black\n"
     ]
    }
   ],
   "source": [
    "colour = input('Enter your favourite colour: ')"
   ]
  },
  {
   "cell_type": "code",
   "execution_count": 2,
   "id": "3724ac21",
   "metadata": {},
   "outputs": [
    {
     "name": "stdout",
     "output_type": "stream",
     "text": [
      "Your favorite colour is Black\n"
     ]
    }
   ],
   "source": [
    "print('Your favorite colour is', colour)"
   ]
  },
  {
   "cell_type": "markdown",
   "id": "d002e8ef",
   "metadata": {},
   "source": [
    "### Python Lists"
   ]
  },
  {
   "cell_type": "markdown",
   "id": "c147ff7e",
   "metadata": {},
   "source": [
    "•\tThe list type is a container that holds a number of other objects, in a given order\n",
    "\n",
    "•\tThe list type allows you to add and remove objects from the sequence.\n"
   ]
  },
  {
   "cell_type": "code",
   "execution_count": 3,
   "id": "702b2f2b",
   "metadata": {},
   "outputs": [],
   "source": [
    "a = ['python', 'java', 'c']\n",
    "b = [1, 2, 3]"
   ]
  },
  {
   "cell_type": "markdown",
   "id": "a748d245",
   "metadata": {},
   "source": [
    "### Python Tuples"
   ]
  },
  {
   "cell_type": "markdown",
   "id": "64f2ef79",
   "metadata": {},
   "source": [
    "   A tuple in Python is similar to a list. The difference between the two is that we cannot change the elements of a tuple once it is assigned whereas we can change the elements of a list."
   ]
  },
  {
   "cell_type": "code",
   "execution_count": 4,
   "id": "ab039683",
   "metadata": {},
   "outputs": [],
   "source": [
    "my_tuple = ('python', 'java', 'c')\n",
    "my_tup = (1, 2, 3)"
   ]
  },
  {
   "cell_type": "markdown",
   "id": "6db334bf",
   "metadata": {},
   "source": [
    "### Excercise"
   ]
  },
  {
   "cell_type": "code",
   "execution_count": 5,
   "id": "e8891c99",
   "metadata": {},
   "outputs": [],
   "source": [
    "my_list = [23, 69, 10, 86, 45]"
   ]
  },
  {
   "cell_type": "code",
   "execution_count": 7,
   "id": "8562c96b",
   "metadata": {},
   "outputs": [],
   "source": [
    "my_list.append(97)\n",
    "my_list.append(7)\n",
    "my_list.append(38)"
   ]
  },
  {
   "cell_type": "code",
   "execution_count": 8,
   "id": "c8d41c2b",
   "metadata": {},
   "outputs": [
    {
     "name": "stdout",
     "output_type": "stream",
     "text": [
      "[23, 69, 10, 86, 45, 97, 7, 38]\n"
     ]
    }
   ],
   "source": [
    "print(my_list)"
   ]
  },
  {
   "cell_type": "code",
   "execution_count": 10,
   "id": "97c9a634",
   "metadata": {},
   "outputs": [],
   "source": [
    "max_num = max(my_list)"
   ]
  },
  {
   "cell_type": "code",
   "execution_count": 11,
   "id": "d19bcab6",
   "metadata": {},
   "outputs": [
    {
     "name": "stdout",
     "output_type": "stream",
     "text": [
      "97\n"
     ]
    }
   ],
   "source": [
    "print(max_num)"
   ]
  },
  {
   "cell_type": "code",
   "execution_count": 12,
   "id": "cd1bec50",
   "metadata": {},
   "outputs": [],
   "source": [
    "min_num = min(my_list)"
   ]
  },
  {
   "cell_type": "code",
   "execution_count": 13,
   "id": "048d77ec",
   "metadata": {},
   "outputs": [
    {
     "name": "stdout",
     "output_type": "stream",
     "text": [
      "7\n"
     ]
    }
   ],
   "source": [
    "print(min_num)"
   ]
  },
  {
   "cell_type": "code",
   "execution_count": 15,
   "id": "f46648f0",
   "metadata": {},
   "outputs": [
    {
     "name": "stdout",
     "output_type": "stream",
     "text": [
      "before deletion [69, 10, 86, 45, 97, 7, 38]\n",
      "after deletion [10, 86, 45, 97, 7, 38]\n"
     ]
    }
   ],
   "source": [
    "print('before deletion', my_list)\n",
    "\n",
    "del my_list[0]                       # Deleting 1st element\n",
    "\n",
    "print('after deletion', my_list)"
   ]
  },
  {
   "cell_type": "code",
   "execution_count": 19,
   "id": "644b7a48",
   "metadata": {},
   "outputs": [],
   "source": [
    "my_tuple = (7, 13, 11, 28, 34, 36,70)\n",
    "\n",
    "reversed_tuple = tuple(reversed(my_tuple))"
   ]
  },
  {
   "cell_type": "code",
   "execution_count": 20,
   "id": "b1e5829c",
   "metadata": {},
   "outputs": [
    {
     "name": "stdout",
     "output_type": "stream",
     "text": [
      "(70, 36, 34, 28, 11, 13, 7)\n"
     ]
    }
   ],
   "source": [
    "print(reversed_tuple)"
   ]
  },
  {
   "cell_type": "code",
   "execution_count": 21,
   "id": "5955acdc",
   "metadata": {},
   "outputs": [],
   "source": [
    "converted_list = list(my_tuple)"
   ]
  },
  {
   "cell_type": "code",
   "execution_count": 23,
   "id": "8cf995e6",
   "metadata": {},
   "outputs": [
    {
     "name": "stdout",
     "output_type": "stream",
     "text": [
      "[7, 13, 11, 28, 34, 36, 70]\n"
     ]
    }
   ],
   "source": [
    "print(converted_list)"
   ]
  }
 ],
 "metadata": {
  "kernelspec": {
   "display_name": "Python 3",
   "language": "python",
   "name": "python3"
  },
  "language_info": {
   "codemirror_mode": {
    "name": "ipython",
    "version": 3
   },
   "file_extension": ".py",
   "mimetype": "text/x-python",
   "name": "python",
   "nbconvert_exporter": "python",
   "pygments_lexer": "ipython3",
   "version": "3.8.5"
  }
 },
 "nbformat": 4,
 "nbformat_minor": 5
}
