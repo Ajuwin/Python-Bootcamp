{
 "cells": [
  {
   "cell_type": "markdown",
   "id": "81d67680",
   "metadata": {},
   "source": [
    "### Dictionary"
   ]
  },
  {
   "cell_type": "markdown",
   "id": "aec1ae00",
   "metadata": {},
   "source": [
    "   Dictionary can be defined by enclosing a comma-separated list of key-value pairs in curly braces ({}). A colon (:) separates each key from its associated value."
   ]
  },
  {
   "cell_type": "code",
   "execution_count": 6,
   "id": "88c7f869",
   "metadata": {},
   "outputs": [],
   "source": [
    "# Example\n",
    "\n",
    "capitals={\"Maharashtra\":\"Mumbai\", \"Telangana\":\"Hyderabad\", \"Tamilnadu\":\"Chennai\", \"Karnataka\":\"Bengaluru\", \"Bihar\":\"Patna\"}"
   ]
  },
  {
   "cell_type": "code",
   "execution_count": 7,
   "id": "d7cb7ca1",
   "metadata": {},
   "outputs": [
    {
     "name": "stdout",
     "output_type": "stream",
     "text": [
      "{'Maharashtra': 'Mumbai', 'Telangana': 'Hyderabad', 'Tamilnadu': 'Chennai', 'Karnataka': 'Bengaluru', 'Bihar': 'Patna'}\n"
     ]
    }
   ],
   "source": [
    "print(capitals)"
   ]
  },
  {
   "cell_type": "code",
   "execution_count": 8,
   "id": "0874402e",
   "metadata": {},
   "outputs": [
    {
     "name": "stdout",
     "output_type": "stream",
     "text": [
      "Chennai\n"
     ]
    }
   ],
   "source": [
    "print(capitals['Tamilnadu'])"
   ]
  },
  {
   "cell_type": "code",
   "execution_count": 9,
   "id": "34b88758",
   "metadata": {},
   "outputs": [],
   "source": [
    "# Deleting an item\n",
    "\n",
    "del capitals[\"Telangana\"]"
   ]
  },
  {
   "cell_type": "code",
   "execution_count": 10,
   "id": "c1f89905",
   "metadata": {},
   "outputs": [
    {
     "name": "stdout",
     "output_type": "stream",
     "text": [
      "{'Maharashtra': 'Mumbai', 'Tamilnadu': 'Chennai', 'Karnataka': 'Bengaluru', 'Bihar': 'Patna'}\n"
     ]
    }
   ],
   "source": [
    "print(capitals)"
   ]
  },
  {
   "cell_type": "markdown",
   "id": "70a09129",
   "metadata": {},
   "source": [
    "### Sets"
   ]
  },
  {
   "cell_type": "markdown",
   "id": "2094f85e",
   "metadata": {},
   "source": [
    "A set is a collection which is unordered and unindexed. In Python, sets are written with curly brackets."
   ]
  },
  {
   "cell_type": "code",
   "execution_count": 11,
   "id": "7c70b27b",
   "metadata": {},
   "outputs": [],
   "source": [
    "# Example\n",
    "\n",
    "CSK = {\"dhoni\", \"bravo\", \"jadeja\", \"Sam curran\"}"
   ]
  },
  {
   "cell_type": "code",
   "execution_count": 12,
   "id": "12b9026f",
   "metadata": {},
   "outputs": [
    {
     "name": "stdout",
     "output_type": "stream",
     "text": [
      "{'bravo', 'jadeja', 'Sam curran', 'dhoni'}\n"
     ]
    }
   ],
   "source": [
    "print(CSK)"
   ]
  },
  {
   "cell_type": "code",
   "execution_count": 14,
   "id": "73c70349",
   "metadata": {},
   "outputs": [],
   "source": [
    "# Adding an element\n",
    "\n",
    "CSK.add(\"Raina\")\n",
    "CSK.add(\"Watson\")"
   ]
  },
  {
   "cell_type": "code",
   "execution_count": 15,
   "id": "6fc208dc",
   "metadata": {},
   "outputs": [
    {
     "name": "stdout",
     "output_type": "stream",
     "text": [
      "{'Watson', 'bravo', 'Raina', 'jadeja', 'Sam curran', 'dhoni'}\n"
     ]
    }
   ],
   "source": [
    "print(CSK)"
   ]
  },
  {
   "cell_type": "code",
   "execution_count": 16,
   "id": "df82d044",
   "metadata": {},
   "outputs": [],
   "source": [
    "# Removing an element\n",
    "\n",
    "CSK.remove(\"Watson\")"
   ]
  },
  {
   "cell_type": "code",
   "execution_count": 17,
   "id": "8e8b7b8e",
   "metadata": {},
   "outputs": [
    {
     "name": "stdout",
     "output_type": "stream",
     "text": [
      "{'bravo', 'Raina', 'jadeja', 'Sam curran', 'dhoni'}\n"
     ]
    }
   ],
   "source": [
    "print(CSK)"
   ]
  },
  {
   "cell_type": "markdown",
   "id": "ffa6220e",
   "metadata": {},
   "source": [
    "### Excercise"
   ]
  },
  {
   "cell_type": "code",
   "execution_count": 30,
   "id": "5ae9f7b2",
   "metadata": {},
   "outputs": [],
   "source": [
    "# Merge two Python dictionaries\n",
    "\n",
    "dict1 = {1: 1, 2: 4, 3: 9, 4: 16}\n",
    "dict2 = {5: 25, 6: 36, 7: 49, 8: 64}\n",
    "\n",
    "dict1.update(dict2)"
   ]
  },
  {
   "cell_type": "code",
   "execution_count": 31,
   "id": "22e94b83",
   "metadata": {},
   "outputs": [
    {
     "name": "stdout",
     "output_type": "stream",
     "text": [
      "{1: 1, 2: 4, 3: 9, 4: 16, 5: 25, 6: 36, 7: 49, 8: 64}\n"
     ]
    }
   ],
   "source": [
    "print(dict1)"
   ]
  },
  {
   "cell_type": "code",
   "execution_count": 32,
   "id": "b19382eb",
   "metadata": {},
   "outputs": [
    {
     "name": "stdout",
     "output_type": "stream",
     "text": [
      "{1: 1, 2: 4, 3: 9, 4: 16, 5: 25, 6: 36, 7: 49}\n"
     ]
    }
   ],
   "source": [
    "# Remove a key from a dictionary\n",
    "\n",
    "del dict1[8]\n",
    "\n",
    "print(dict1)"
   ]
  },
  {
   "cell_type": "code",
   "execution_count": 33,
   "id": "8c242199",
   "metadata": {},
   "outputs": [
    {
     "name": "stdout",
     "output_type": "stream",
     "text": [
      "{'Python': 1991, 'Java': 1995, 'C': 1972}\n"
     ]
    }
   ],
   "source": [
    "# Map two lists into a dictionary\n",
    "\n",
    "keys = ['Python', 'Java', 'C']\n",
    "\n",
    "values = [1991, 1995, 1972]\n",
    "\n",
    "res = dict(zip(keys, values))\n",
    "\n",
    "print(res)"
   ]
  },
  {
   "cell_type": "code",
   "execution_count": 34,
   "id": "a5121b14",
   "metadata": {},
   "outputs": [
    {
     "name": "stdout",
     "output_type": "stream",
     "text": [
      "5\n"
     ]
    }
   ],
   "source": [
    "# Length of a set\n",
    "\n",
    "my_set = {'Python', 'Java', 'C', 'Java script', 'Scala'}\n",
    "\n",
    "print(len(my_set))"
   ]
  },
  {
   "cell_type": "code",
   "execution_count": 35,
   "id": "5442affb",
   "metadata": {},
   "outputs": [
    {
     "name": "stdout",
     "output_type": "stream",
     "text": [
      "{8, 6, 7}\n"
     ]
    }
   ],
   "source": [
    "# Set difference \n",
    "\n",
    "set1 = {1, 2, 3, 4, 5}\n",
    "set2 = {4, 5, 6, 7, 8}\n",
    "\n",
    "res = set2.difference(set1)\n",
    "\n",
    "print(res)"
   ]
  }
 ],
 "metadata": {
  "kernelspec": {
   "display_name": "Python 3",
   "language": "python",
   "name": "python3"
  },
  "language_info": {
   "codemirror_mode": {
    "name": "ipython",
    "version": 3
   },
   "file_extension": ".py",
   "mimetype": "text/x-python",
   "name": "python",
   "nbconvert_exporter": "python",
   "pygments_lexer": "ipython3",
   "version": "3.8.5"
  }
 },
 "nbformat": 4,
 "nbformat_minor": 5
}
