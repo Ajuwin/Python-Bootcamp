{
 "cells": [
  {
   "cell_type": "markdown",
   "id": "3b7f8aac",
   "metadata": {},
   "source": [
    "### Inheritance"
   ]
  },
  {
   "cell_type": "markdown",
   "id": "454834bd",
   "metadata": {},
   "source": [
    "Inheritance allows us to define a class that inherits all the methods and properties from another class.\n",
    "\n",
    "Parent class is the class being inherited from, also called base class.\n",
    "\n",
    "Child class is the class that inherits from another class, also called derived class."
   ]
  },
  {
   "cell_type": "code",
   "execution_count": 12,
   "id": "2f646df7",
   "metadata": {},
   "outputs": [],
   "source": [
    "# Creating a classs BankAccount\n",
    "\n",
    "class BankAccount:\n",
    "    \n",
    "    def __init__(self, name, amount=0):\n",
    "        self.name = name\n",
    "        self.balance = amount\n",
    "\n",
    "    def deposit(self, amount):\n",
    "        self.balance += amount\n",
    "        print(f\"Amount deposited: Rs.{amount}\")\n",
    "\n",
    "    def withdraw(self, amount):\n",
    "        if amount > self.balance:\n",
    "            print(\"Should maintain minimum balance of Rs.500\")\n",
    "        else:\n",
    "            self.balance -= amount\n",
    "            print(f\"Amount withdrawn: Rs.{amount}\")\n",
    "\n",
    "    def display(self):\n",
    "        print(f\"Net account balance: Rs.{self.balance}\")"
   ]
  },
  {
   "cell_type": "code",
   "execution_count": 14,
   "id": "f05b3717",
   "metadata": {},
   "outputs": [],
   "source": [
    "# Creating a class AccountWithInterest and inheriting the class BankAccount\n",
    "\n",
    "class AccountWithInterest(BankAccount):\n",
    "    \n",
    "    def __init__(self, name, amount=0):\n",
    "        super().__init__(name, amount)\n",
    "        self.rate = 0.2\n",
    "        \n",
    "    def interest_amount(self):\n",
    "        return self.balance * self.rate\n",
    "\n",
    "    def display(self):\n",
    "        print(\"Net account balance\", self.balance + self.interest_amount())"
   ]
  },
  {
   "cell_type": "code",
   "execution_count": 13,
   "id": "46c82f58",
   "metadata": {},
   "outputs": [
    {
     "name": "stdout",
     "output_type": "stream",
     "text": [
      "Net account balance: Rs.500\n",
      "Amount deposited: Rs.2000\n",
      "Net account balance: Rs.2500\n",
      "Amount withdrawn: Rs.1000\n",
      "Net account balance: Rs.1500\n"
     ]
    }
   ],
   "source": [
    "# Bank account(Current account)\n",
    "\n",
    "person_1 = BankAccount(\"Satheesh\", 500) # person name , initial amount to deposit\n",
    "person_1.display() # prints the net account balance\n",
    "person_1.deposit(2000) # amount to deposit\n",
    "person_1.display()\n",
    "person_1.withdraw(1000) # amount to withdraw\n",
    "person_1.display() "
   ]
  },
  {
   "cell_type": "code",
   "execution_count": 15,
   "id": "1238ae9e",
   "metadata": {},
   "outputs": [
    {
     "name": "stdout",
     "output_type": "stream",
     "text": [
      "Net account balance 600.0\n",
      "Amount deposited: Rs.2000\n",
      "Net account balance 3000.0\n",
      "Amount withdrawn: Rs.1000\n",
      "Net account balance 1800.0\n"
     ]
    }
   ],
   "source": [
    "# Account with interest(Savings account)\n",
    "# rate of interest = 0.2\n",
    "\n",
    "person_2 = AccountWithInterest(\"Suresh Kumar\", 500) # person name , initial amount to deposit\n",
    "person_2.display() # prints the net account balance with interest\n",
    "person_2.deposit(2000) # amount to deposit\n",
    "person_2.display()\n",
    "person_2.withdraw(1000) # amount to withdraw\n",
    "person_2.display() "
   ]
  }
 ],
 "metadata": {
  "kernelspec": {
   "display_name": "Python 3",
   "language": "python",
   "name": "python3"
  },
  "language_info": {
   "codemirror_mode": {
    "name": "ipython",
    "version": 3
   },
   "file_extension": ".py",
   "mimetype": "text/x-python",
   "name": "python",
   "nbconvert_exporter": "python",
   "pygments_lexer": "ipython3",
   "version": "3.8.5"
  }
 },
 "nbformat": 4,
 "nbformat_minor": 5
}
