{
 "cells": [
  {
   "cell_type": "markdown",
   "id": "8711a31b",
   "metadata": {},
   "source": [
    "## JSON"
   ]
  },
  {
   "cell_type": "code",
   "execution_count": 1,
   "id": "f0d96693",
   "metadata": {},
   "outputs": [],
   "source": [
    "import json"
   ]
  },
  {
   "cell_type": "code",
   "execution_count": 2,
   "id": "2a47fca5",
   "metadata": {},
   "outputs": [],
   "source": [
    "json_data = [\n",
    "    {\n",
    "        \"customerid\": 1,\n",
    "        \"customer_name\": \"Arthur Shelby\",\n",
    "        \"product_price\": 1000,\n",
    "        \"product_received\": True, \n",
    "    },\n",
    "    {\n",
    "        \"customerid\": 2,\n",
    "        \"customer_name\": \"Berlin\",\n",
    "        \"product_price\": 2000,\n",
    "        \"product_received\": False, \n",
    "    },\n",
    "    {\n",
    "        \"customerid\": 3,\n",
    "        \"customer_name\": \"Omar Little\",\n",
    "        \"product_price\": 3000,\n",
    "        \"product_received\": True, \n",
    "    },\n",
    "    {\n",
    "        \"customerid\": 4,\n",
    "        \"customer_name\": \"Ellis Carver\",\n",
    "        \"product_price\": 4000,\n",
    "        \"product_received\": False, \n",
    "    },\n",
    "    {\n",
    "        \"customerid\": 5,\n",
    "        \"customer_name\": \"Walter White\",\n",
    "        \"product_price\": 5000,\n",
    "        \"product_received\": True, \n",
    "    }\n",
    "]"
   ]
  },
  {
   "cell_type": "code",
   "execution_count": 3,
   "id": "4ffa551f",
   "metadata": {},
   "outputs": [],
   "source": [
    "x = json.dumps(json_data)"
   ]
  },
  {
   "cell_type": "code",
   "execution_count": 4,
   "id": "d8ba8c65",
   "metadata": {},
   "outputs": [],
   "source": [
    "import mysql.connector"
   ]
  },
  {
   "cell_type": "code",
   "execution_count": 5,
   "id": "9b6fff93",
   "metadata": {},
   "outputs": [
    {
     "name": "stdout",
     "output_type": "stream",
     "text": [
      "<mysql.connector.connection.MySQLConnection object at 0x0000019AD4691490>\n"
     ]
    }
   ],
   "source": [
    "con = mysql.connector.connect(\n",
    "    host=\"localhost\",\n",
    "    user=\"root\",\n",
    "    passwd=\"Microsoft@9623\",\n",
    "    database=\"mydatabase\"\n",
    ")\n",
    "print(con)"
   ]
  },
  {
   "cell_type": "code",
   "execution_count": 7,
   "id": "e094d579",
   "metadata": {},
   "outputs": [],
   "source": [
    "mycursor = con.cursor()\n",
    "\n",
    "mycursor.execute(\"CREATE TABLE customers (CustomerId INT(10), CustomerName VARCHAR(255), ProductPrice INT(10), ProductReceived BIT(1))\")"
   ]
  },
  {
   "cell_type": "code",
   "execution_count": 8,
   "id": "919e41b8",
   "metadata": {},
   "outputs": [],
   "source": [
    "data = json.loads(x)"
   ]
  },
  {
   "cell_type": "code",
   "execution_count": 9,
   "id": "dae297d3",
   "metadata": {},
   "outputs": [],
   "source": [
    "values = []"
   ]
  },
  {
   "cell_type": "code",
   "execution_count": 10,
   "id": "9bf84e3f",
   "metadata": {},
   "outputs": [],
   "source": [
    "for value in data:\n",
    "    cus_id = value[\"customerid\"]\n",
    "    cus_name = value[\"customer_name\"]\n",
    "    pdt_price = value[\"product_price\"]\n",
    "    pdt_received = value[\"product_received\"]\n",
    "    values.append((cus_id, cus_name, pdt_price, pdt_received))"
   ]
  },
  {
   "cell_type": "code",
   "execution_count": 12,
   "id": "67abe444",
   "metadata": {},
   "outputs": [],
   "source": [
    "sql = \"INSERT INTO customers(CustomerId, CustomerName, ProductPrice, ProductReceived) VALUES (%s,%s,%s,%s)\"\n",
    "\n",
    "mycursor.executemany(sql, values)\n",
    "con.commit()"
   ]
  },
  {
   "cell_type": "code",
   "execution_count": 13,
   "id": "c3bcfe58",
   "metadata": {},
   "outputs": [],
   "source": [
    "mycursor.execute(\"SELECT * FROM customers\")\n",
    "result = mycursor.fetchall()"
   ]
  },
  {
   "cell_type": "code",
   "execution_count": 14,
   "id": "a618b814",
   "metadata": {},
   "outputs": [
    {
     "name": "stdout",
     "output_type": "stream",
     "text": [
      "(1, 'Arthur Shelby', 1000, 1)\n",
      "(2, 'Berlin', 2000, 0)\n",
      "(3, 'Omar Little', 3000, 1)\n",
      "(4, 'Ellis Carver', 4000, 0)\n",
      "(5, 'Walter White', 5000, 1)\n"
     ]
    }
   ],
   "source": [
    "for data in result:\n",
    "    print(data)"
   ]
  },
  {
   "cell_type": "code",
   "execution_count": 16,
   "id": "854adad8",
   "metadata": {},
   "outputs": [],
   "source": [
    "con.close()"
   ]
  }
 ],
 "metadata": {
  "kernelspec": {
   "display_name": "Python 3",
   "language": "python",
   "name": "python3"
  },
  "language_info": {
   "codemirror_mode": {
    "name": "ipython",
    "version": 3
   },
   "file_extension": ".py",
   "mimetype": "text/x-python",
   "name": "python",
   "nbconvert_exporter": "python",
   "pygments_lexer": "ipython3",
   "version": "3.9.6"
  }
 },
 "nbformat": 4,
 "nbformat_minor": 5
}
