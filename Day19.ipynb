{
 "cells": [
  {
   "cell_type": "markdown",
   "id": "e6586483",
   "metadata": {},
   "source": [
    "## Mysql (Filter (Where Clause) & Sort)"
   ]
  },
  {
   "cell_type": "markdown",
   "id": "fb866571",
   "metadata": {},
   "source": [
    "### Create an Excel with data of Student database and add all the values which is required for student management database, Read the excel file and add the datas into a DB."
   ]
  },
  {
   "cell_type": "code",
   "execution_count": 1,
   "id": "d97b0677",
   "metadata": {},
   "outputs": [],
   "source": [
    "from openpyxl import load_workbook"
   ]
  },
  {
   "cell_type": "code",
   "execution_count": 3,
   "id": "ad3397d2",
   "metadata": {},
   "outputs": [],
   "source": [
    "wb = load_workbook(\"students_dbm.xlsx\")\n",
    "ws = wb.active"
   ]
  },
  {
   "cell_type": "code",
   "execution_count": 5,
   "id": "dd73f353",
   "metadata": {},
   "outputs": [
    {
     "name": "stdout",
     "output_type": "stream",
     "text": [
      "Arthur\n"
     ]
    }
   ],
   "source": [
    "cell_obj = ws.cell(row=2, column=2)\n",
    "print(cell_obj.value)"
   ]
  },
  {
   "cell_type": "code",
   "execution_count": 8,
   "id": "85049c0e",
   "metadata": {},
   "outputs": [
    {
     "name": "stdout",
     "output_type": "stream",
     "text": [
      "Reg-No 6001 \n",
      "Name Arthur \n",
      "Gender Male \n",
      "Department ECE \n",
      "CGPA 8.4 \n",
      "Address Chennai \n",
      "Contact-No 987654321 \n",
      "mail-Id arthur@gmail.com \n"
     ]
    }
   ],
   "source": [
    "# print one Student details\n",
    "for i in range(1,9):\n",
    "    for j in range(1,3):\n",
    "        cell = ws.cell(row=j, column=i)\n",
    "        print(cell.value, end=' ')\n",
    "    print()"
   ]
  },
  {
   "cell_type": "code",
   "execution_count": 9,
   "id": "3dea9716",
   "metadata": {},
   "outputs": [],
   "source": [
    "import mysql.connector"
   ]
  },
  {
   "cell_type": "code",
   "execution_count": 11,
   "id": "66ee2f79",
   "metadata": {},
   "outputs": [
    {
     "name": "stdout",
     "output_type": "stream",
     "text": [
      "<mysql.connector.connection.MySQLConnection object at 0x000001F75229F8B0>\n"
     ]
    }
   ],
   "source": [
    "con = mysql.connector.connect(host=\"localhost\",user=\"root\",passwd=\"Microsoft@9623\")\n",
    "print(con)"
   ]
  },
  {
   "cell_type": "code",
   "execution_count": 13,
   "id": "26eaa681",
   "metadata": {},
   "outputs": [
    {
     "name": "stdout",
     "output_type": "stream",
     "text": [
      "('doctor',)\n",
      "('information_schema',)\n",
      "('mydatabase',)\n",
      "('mysql',)\n",
      "('performance_schema',)\n",
      "('sakila',)\n",
      "('sys',)\n",
      "('world',)\n"
     ]
    }
   ],
   "source": [
    "dbase = con.cursor()\n",
    "dbase.execute(\"SHOW DATABASES\")\n",
    "for i in dbase:\n",
    "    print(i)"
   ]
  },
  {
   "cell_type": "code",
   "execution_count": 41,
   "id": "d8d12c81",
   "metadata": {},
   "outputs": [],
   "source": [
    "dbase.execute(\"CREATE DATABASE Student_DBM\")"
   ]
  },
  {
   "cell_type": "code",
   "execution_count": 42,
   "id": "52726621",
   "metadata": {},
   "outputs": [
    {
     "name": "stdout",
     "output_type": "stream",
     "text": [
      "<mysql.connector.connection.MySQLConnection object at 0x000001F7531F3700>\n"
     ]
    }
   ],
   "source": [
    "con = mysql.connector.connect(host=\"localhost\",user=\"root\",passwd=\"Microsoft@9623\", database=\"Student_DBM\")\n",
    "print(con)"
   ]
  },
  {
   "cell_type": "code",
   "execution_count": 44,
   "id": "e791882a",
   "metadata": {},
   "outputs": [
    {
     "name": "stdout",
     "output_type": "stream",
     "text": [
      "('doctor',)\n",
      "('information_schema',)\n",
      "('mydatabase',)\n",
      "('mysql',)\n",
      "('performance_schema',)\n",
      "('sakila',)\n",
      "('student_dbm',)\n",
      "('sys',)\n",
      "('world',)\n"
     ]
    }
   ],
   "source": [
    "dbase = con.cursor()\n",
    "dbase.execute(\"SHOW DATABASES\")\n",
    "for i in dbase:\n",
    "    print(i)"
   ]
  },
  {
   "cell_type": "code",
   "execution_count": 45,
   "id": "2b21509c",
   "metadata": {},
   "outputs": [],
   "source": [
    "dbase.execute(\"CREATE TABLE Student(Reg_No VARCHAR(225), Name VARCHAR(20), Gender VARCHAR(6), Department VARCHAR(3), CGPA INT(5),Address VARCHAR(20), Contact_No INT(10), mail_Id VARCHAR(30))\")"
   ]
  },
  {
   "cell_type": "code",
   "execution_count": 47,
   "id": "aa745efe",
   "metadata": {},
   "outputs": [
    {
     "name": "stdout",
     "output_type": "stream",
     "text": [
      "('student',)\n"
     ]
    }
   ],
   "source": [
    "dbase.execute(\"SHOW TABLES\")\n",
    "\n",
    "for table in dbase:\n",
    "    print(table)"
   ]
  },
  {
   "cell_type": "code",
   "execution_count": 48,
   "id": "f640f7df",
   "metadata": {},
   "outputs": [],
   "source": [
    "for row in range(2,ws.max_row+1):\n",
    "    sql = \"INSERT INTO student(Reg_No, Name, Gender, Department, CGPA, Address, Contact_No, mail_Id) VALUES (%s,%s,%s,%s,%s,%s,%s,%s)\"\n",
    "    for _ in range(1):\n",
    "        Reg_No = ws.cell(row, 1).value\n",
    "        Name = ws.cell(row, 2).value\n",
    "        Gender = ws.cell(row, 3).value\n",
    "        Department = ws.cell(row, 4).value\n",
    "        CGPA = ws.cell(row, 5).value\n",
    "        Address = ws.cell(row, 6).value\n",
    "        Contact = ws.cell(row, 7).value\n",
    "        mail = ws.cell(row, 8).value\n",
    "        \n",
    "        values = (Reg_No,Name,Gender,Department,CGPA,Address,Contact,mail)\n",
    "        dbase.execute(sql, values)\n",
    "        \n",
    "con.commit()"
   ]
  },
  {
   "cell_type": "code",
   "execution_count": 51,
   "id": "89408056",
   "metadata": {},
   "outputs": [
    {
     "name": "stdout",
     "output_type": "stream",
     "text": [
      "('6001', 'Arthur', 'Male', 'ECE', 8, 'Chennai', 987654321, 'arthur@gmail.com')\n",
      "('6002', 'Chandler', 'Male', 'CSE', 8, 'Nagercoil', 987654322, 'chandler@gmail.com')\n",
      "('6003', 'Harry', 'Male', 'EEE', 7, 'Madurai', 987654323, 'harry@gmail.com')\n",
      "('6004', 'Joey', 'Male', 'CSE', 8, 'Thiruchi', 987654324, 'joey@gmail.com')\n",
      "('6005', 'Michael', 'Male', 'ECE', 9, 'Chennai', 987654325, 'michael@gmail.com')\n",
      "('6006', 'Monica', 'Female', 'CSE', 9, 'Coimbatore', 987654326, 'monica@gmail.com')\n",
      "('6007', 'Phoebe', 'Female', 'ECE', 8, 'Nagercoil', 987654327, 'phoebe@gmail.com')\n",
      "('6008', 'Rachel', 'Female', 'ECE', 9, 'Thiruchi', 987654328, 'rachel@gmail.com')\n",
      "('6009', 'Ross', 'Male', 'EEE', 8, 'Coimbatore', 987654329, 'ross@gmail.com')\n",
      "('6010', 'Skyler', 'Female', 'CSE', 7, 'Nagercoil', 987654330, 'skyler@gmail.com')\n",
      "('6011', 'Thomas', 'Male', 'EEE', 9, 'Chennai', 987654331, 'thomas@gmail.com')\n",
      "('6012', 'Walter', 'Male', 'EEE', 8, 'Madurai', 987654332, 'walter@gmail.com')\n"
     ]
    }
   ],
   "source": [
    "dbase.execute(\"SELECT * FROM student\")\n",
    "database = dbase.fetchall()\n",
    "\n",
    "for data in database:\n",
    "    print(data)"
   ]
  },
  {
   "cell_type": "code",
   "execution_count": 52,
   "id": "f8613c4c",
   "metadata": {},
   "outputs": [],
   "source": [
    "con.close()"
   ]
  }
 ],
 "metadata": {
  "kernelspec": {
   "display_name": "Python 3",
   "language": "python",
   "name": "python3"
  },
  "language_info": {
   "codemirror_mode": {
    "name": "ipython",
    "version": 3
   },
   "file_extension": ".py",
   "mimetype": "text/x-python",
   "name": "python",
   "nbconvert_exporter": "python",
   "pygments_lexer": "ipython3",
   "version": "3.9.6"
  }
 },
 "nbformat": 4,
 "nbformat_minor": 5
}
